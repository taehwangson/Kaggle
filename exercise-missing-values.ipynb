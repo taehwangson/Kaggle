{
 "cells": [
  {
   "cell_type": "markdown",
   "id": "69eaed1c",
   "metadata": {
    "papermill": {
     "duration": 0.015996,
     "end_time": "2022-08-03T01:45:39.012690",
     "exception": false,
     "start_time": "2022-08-03T01:45:38.996694",
     "status": "completed"
    },
    "tags": []
   },
   "source": [
    "**This notebook is an exercise in the [Intermediate Machine Learning](https://www.kaggle.com/learn/intermediate-machine-learning) course.  You can reference the tutorial at [this link](https://www.kaggle.com/alexisbcook/missing-values).**\n",
    "\n",
    "---\n"
   ]
  },
  {
   "cell_type": "markdown",
   "id": "87fc35b7",
   "metadata": {
    "papermill": {
     "duration": 0.012726,
     "end_time": "2022-08-03T01:45:39.035228",
     "exception": false,
     "start_time": "2022-08-03T01:45:39.022502",
     "status": "completed"
    },
    "tags": []
   },
   "source": [
    "Now it's your turn to test your new knowledge of **missing values** handling. You'll probably find it makes a big difference.\n",
    "\n",
    "# Setup\n",
    "\n",
    "The questions will give you feedback on your work. Run the following cell to set up the feedback system."
   ]
  },
  {
   "cell_type": "code",
   "execution_count": 1,
   "id": "b55b4b7f",
   "metadata": {
    "execution": {
     "iopub.execute_input": "2022-08-03T01:45:39.057750Z",
     "iopub.status.busy": "2022-08-03T01:45:39.057188Z",
     "iopub.status.idle": "2022-08-03T01:45:39.122604Z",
     "shell.execute_reply": "2022-08-03T01:45:39.121720Z"
    },
    "papermill": {
     "duration": 0.079589,
     "end_time": "2022-08-03T01:45:39.125171",
     "exception": false,
     "start_time": "2022-08-03T01:45:39.045582",
     "status": "completed"
    },
    "tags": []
   },
   "outputs": [
    {
     "name": "stdout",
     "output_type": "stream",
     "text": [
      "Setup Complete\n"
     ]
    }
   ],
   "source": [
    "# Set up code checking\n",
    "import os\n",
    "if not os.path.exists(\"../input/train.csv\"):\n",
    "    os.symlink(\"../input/home-data-for-ml-course/train.csv\", \"../input/train.csv\")  \n",
    "    os.symlink(\"../input/home-data-for-ml-course/test.csv\", \"../input/test.csv\") \n",
    "from learntools.core import binder\n",
    "binder.bind(globals())\n",
    "from learntools.ml_intermediate.ex2 import *\n",
    "print(\"Setup Complete\")"
   ]
  },
  {
   "cell_type": "markdown",
   "id": "788f5091",
   "metadata": {
    "papermill": {
     "duration": 0.008975,
     "end_time": "2022-08-03T01:45:39.143613",
     "exception": false,
     "start_time": "2022-08-03T01:45:39.134638",
     "status": "completed"
    },
    "tags": []
   },
   "source": [
    "In this exercise, you will work with data from the [Housing Prices Competition for Kaggle Learn Users](https://www.kaggle.com/c/home-data-for-ml-course). \n",
    "\n",
    "![Ames Housing dataset image](https://i.imgur.com/lTJVG4e.png)\n",
    "\n",
    "Run the next code cell without changes to load the training and validation sets in `X_train`, `X_valid`, `y_train`, and `y_valid`.  The test set is loaded in `X_test`."
   ]
  },
  {
   "cell_type": "code",
   "execution_count": 2,
   "id": "5b7588cd",
   "metadata": {
    "execution": {
     "iopub.execute_input": "2022-08-03T01:45:39.165376Z",
     "iopub.status.busy": "2022-08-03T01:45:39.164498Z",
     "iopub.status.idle": "2022-08-03T01:45:40.450229Z",
     "shell.execute_reply": "2022-08-03T01:45:40.449083Z"
    },
    "papermill": {
     "duration": 1.299039,
     "end_time": "2022-08-03T01:45:40.452959",
     "exception": false,
     "start_time": "2022-08-03T01:45:39.153920",
     "status": "completed"
    },
    "tags": []
   },
   "outputs": [],
   "source": [
    "import pandas as pd\n",
    "from sklearn.model_selection import train_test_split\n",
    "\n",
    "# Read the data\n",
    "X_full = pd.read_csv('../input/train.csv', index_col='Id')\n",
    "X_test_full = pd.read_csv('../input/test.csv', index_col='Id')\n",
    "\n",
    "# Remove rows with missing target, separate target from predictors\n",
    "X_full.dropna(axis=0, subset=['SalePrice'], inplace=True)\n",
    "y = X_full.SalePrice\n",
    "X_full.drop(['SalePrice'], axis=1, inplace=True)\n",
    "\n",
    "# To keep things simple, we'll use only numerical predictors\n",
    "X = X_full.select_dtypes(exclude=['object'])\n",
    "X_test = X_test_full.select_dtypes(exclude=['object'])\n",
    "\n",
    "# Break off validation set from training data\n",
    "X_train, X_valid, y_train, y_valid = train_test_split(X, y, train_size=0.8, test_size=0.2,\n",
    "                                                      random_state=0)"
   ]
  },
  {
   "cell_type": "markdown",
   "id": "0c95e324",
   "metadata": {
    "papermill": {
     "duration": 0.009079,
     "end_time": "2022-08-03T01:45:40.471554",
     "exception": false,
     "start_time": "2022-08-03T01:45:40.462475",
     "status": "completed"
    },
    "tags": []
   },
   "source": [
    "Use the next code cell to print the first five rows of the data."
   ]
  },
  {
   "cell_type": "code",
   "execution_count": 3,
   "id": "465e25be",
   "metadata": {
    "execution": {
     "iopub.execute_input": "2022-08-03T01:45:40.492140Z",
     "iopub.status.busy": "2022-08-03T01:45:40.491734Z",
     "iopub.status.idle": "2022-08-03T01:45:40.526476Z",
     "shell.execute_reply": "2022-08-03T01:45:40.525030Z"
    },
    "papermill": {
     "duration": 0.050836,
     "end_time": "2022-08-03T01:45:40.531905",
     "exception": false,
     "start_time": "2022-08-03T01:45:40.481069",
     "status": "completed"
    },
    "tags": []
   },
   "outputs": [
    {
     "data": {
      "text/html": [
       "<div>\n",
       "<style scoped>\n",
       "    .dataframe tbody tr th:only-of-type {\n",
       "        vertical-align: middle;\n",
       "    }\n",
       "\n",
       "    .dataframe tbody tr th {\n",
       "        vertical-align: top;\n",
       "    }\n",
       "\n",
       "    .dataframe thead th {\n",
       "        text-align: right;\n",
       "    }\n",
       "</style>\n",
       "<table border=\"1\" class=\"dataframe\">\n",
       "  <thead>\n",
       "    <tr style=\"text-align: right;\">\n",
       "      <th></th>\n",
       "      <th>MSSubClass</th>\n",
       "      <th>LotFrontage</th>\n",
       "      <th>LotArea</th>\n",
       "      <th>OverallQual</th>\n",
       "      <th>OverallCond</th>\n",
       "      <th>YearBuilt</th>\n",
       "      <th>YearRemodAdd</th>\n",
       "      <th>MasVnrArea</th>\n",
       "      <th>BsmtFinSF1</th>\n",
       "      <th>BsmtFinSF2</th>\n",
       "      <th>BsmtUnfSF</th>\n",
       "      <th>TotalBsmtSF</th>\n",
       "      <th>1stFlrSF</th>\n",
       "      <th>2ndFlrSF</th>\n",
       "      <th>LowQualFinSF</th>\n",
       "      <th>GrLivArea</th>\n",
       "      <th>BsmtFullBath</th>\n",
       "      <th>BsmtHalfBath</th>\n",
       "      <th>FullBath</th>\n",
       "      <th>HalfBath</th>\n",
       "      <th>BedroomAbvGr</th>\n",
       "      <th>KitchenAbvGr</th>\n",
       "      <th>TotRmsAbvGrd</th>\n",
       "      <th>Fireplaces</th>\n",
       "      <th>GarageYrBlt</th>\n",
       "      <th>GarageCars</th>\n",
       "      <th>GarageArea</th>\n",
       "      <th>WoodDeckSF</th>\n",
       "      <th>OpenPorchSF</th>\n",
       "      <th>EnclosedPorch</th>\n",
       "      <th>3SsnPorch</th>\n",
       "      <th>ScreenPorch</th>\n",
       "      <th>PoolArea</th>\n",
       "      <th>MiscVal</th>\n",
       "      <th>MoSold</th>\n",
       "      <th>YrSold</th>\n",
       "    </tr>\n",
       "    <tr>\n",
       "      <th>Id</th>\n",
       "      <th></th>\n",
       "      <th></th>\n",
       "      <th></th>\n",
       "      <th></th>\n",
       "      <th></th>\n",
       "      <th></th>\n",
       "      <th></th>\n",
       "      <th></th>\n",
       "      <th></th>\n",
       "      <th></th>\n",
       "      <th></th>\n",
       "      <th></th>\n",
       "      <th></th>\n",
       "      <th></th>\n",
       "      <th></th>\n",
       "      <th></th>\n",
       "      <th></th>\n",
       "      <th></th>\n",
       "      <th></th>\n",
       "      <th></th>\n",
       "      <th></th>\n",
       "      <th></th>\n",
       "      <th></th>\n",
       "      <th></th>\n",
       "      <th></th>\n",
       "      <th></th>\n",
       "      <th></th>\n",
       "      <th></th>\n",
       "      <th></th>\n",
       "      <th></th>\n",
       "      <th></th>\n",
       "      <th></th>\n",
       "      <th></th>\n",
       "      <th></th>\n",
       "      <th></th>\n",
       "      <th></th>\n",
       "    </tr>\n",
       "  </thead>\n",
       "  <tbody>\n",
       "    <tr>\n",
       "      <th>619</th>\n",
       "      <td>20</td>\n",
       "      <td>90.0</td>\n",
       "      <td>11694</td>\n",
       "      <td>9</td>\n",
       "      <td>5</td>\n",
       "      <td>2007</td>\n",
       "      <td>2007</td>\n",
       "      <td>452.0</td>\n",
       "      <td>48</td>\n",
       "      <td>0</td>\n",
       "      <td>1774</td>\n",
       "      <td>1822</td>\n",
       "      <td>1828</td>\n",
       "      <td>0</td>\n",
       "      <td>0</td>\n",
       "      <td>1828</td>\n",
       "      <td>0</td>\n",
       "      <td>0</td>\n",
       "      <td>2</td>\n",
       "      <td>0</td>\n",
       "      <td>3</td>\n",
       "      <td>1</td>\n",
       "      <td>9</td>\n",
       "      <td>1</td>\n",
       "      <td>2007.0</td>\n",
       "      <td>3</td>\n",
       "      <td>774</td>\n",
       "      <td>0</td>\n",
       "      <td>108</td>\n",
       "      <td>0</td>\n",
       "      <td>0</td>\n",
       "      <td>260</td>\n",
       "      <td>0</td>\n",
       "      <td>0</td>\n",
       "      <td>7</td>\n",
       "      <td>2007</td>\n",
       "    </tr>\n",
       "    <tr>\n",
       "      <th>871</th>\n",
       "      <td>20</td>\n",
       "      <td>60.0</td>\n",
       "      <td>6600</td>\n",
       "      <td>5</td>\n",
       "      <td>5</td>\n",
       "      <td>1962</td>\n",
       "      <td>1962</td>\n",
       "      <td>0.0</td>\n",
       "      <td>0</td>\n",
       "      <td>0</td>\n",
       "      <td>894</td>\n",
       "      <td>894</td>\n",
       "      <td>894</td>\n",
       "      <td>0</td>\n",
       "      <td>0</td>\n",
       "      <td>894</td>\n",
       "      <td>0</td>\n",
       "      <td>0</td>\n",
       "      <td>1</td>\n",
       "      <td>0</td>\n",
       "      <td>2</td>\n",
       "      <td>1</td>\n",
       "      <td>5</td>\n",
       "      <td>0</td>\n",
       "      <td>1962.0</td>\n",
       "      <td>1</td>\n",
       "      <td>308</td>\n",
       "      <td>0</td>\n",
       "      <td>0</td>\n",
       "      <td>0</td>\n",
       "      <td>0</td>\n",
       "      <td>0</td>\n",
       "      <td>0</td>\n",
       "      <td>0</td>\n",
       "      <td>8</td>\n",
       "      <td>2009</td>\n",
       "    </tr>\n",
       "    <tr>\n",
       "      <th>93</th>\n",
       "      <td>30</td>\n",
       "      <td>80.0</td>\n",
       "      <td>13360</td>\n",
       "      <td>5</td>\n",
       "      <td>7</td>\n",
       "      <td>1921</td>\n",
       "      <td>2006</td>\n",
       "      <td>0.0</td>\n",
       "      <td>713</td>\n",
       "      <td>0</td>\n",
       "      <td>163</td>\n",
       "      <td>876</td>\n",
       "      <td>964</td>\n",
       "      <td>0</td>\n",
       "      <td>0</td>\n",
       "      <td>964</td>\n",
       "      <td>1</td>\n",
       "      <td>0</td>\n",
       "      <td>1</td>\n",
       "      <td>0</td>\n",
       "      <td>2</td>\n",
       "      <td>1</td>\n",
       "      <td>5</td>\n",
       "      <td>0</td>\n",
       "      <td>1921.0</td>\n",
       "      <td>2</td>\n",
       "      <td>432</td>\n",
       "      <td>0</td>\n",
       "      <td>0</td>\n",
       "      <td>44</td>\n",
       "      <td>0</td>\n",
       "      <td>0</td>\n",
       "      <td>0</td>\n",
       "      <td>0</td>\n",
       "      <td>8</td>\n",
       "      <td>2009</td>\n",
       "    </tr>\n",
       "    <tr>\n",
       "      <th>818</th>\n",
       "      <td>20</td>\n",
       "      <td>NaN</td>\n",
       "      <td>13265</td>\n",
       "      <td>8</td>\n",
       "      <td>5</td>\n",
       "      <td>2002</td>\n",
       "      <td>2002</td>\n",
       "      <td>148.0</td>\n",
       "      <td>1218</td>\n",
       "      <td>0</td>\n",
       "      <td>350</td>\n",
       "      <td>1568</td>\n",
       "      <td>1689</td>\n",
       "      <td>0</td>\n",
       "      <td>0</td>\n",
       "      <td>1689</td>\n",
       "      <td>1</td>\n",
       "      <td>0</td>\n",
       "      <td>2</td>\n",
       "      <td>0</td>\n",
       "      <td>3</td>\n",
       "      <td>1</td>\n",
       "      <td>7</td>\n",
       "      <td>2</td>\n",
       "      <td>2002.0</td>\n",
       "      <td>3</td>\n",
       "      <td>857</td>\n",
       "      <td>150</td>\n",
       "      <td>59</td>\n",
       "      <td>0</td>\n",
       "      <td>0</td>\n",
       "      <td>0</td>\n",
       "      <td>0</td>\n",
       "      <td>0</td>\n",
       "      <td>7</td>\n",
       "      <td>2008</td>\n",
       "    </tr>\n",
       "    <tr>\n",
       "      <th>303</th>\n",
       "      <td>20</td>\n",
       "      <td>118.0</td>\n",
       "      <td>13704</td>\n",
       "      <td>7</td>\n",
       "      <td>5</td>\n",
       "      <td>2001</td>\n",
       "      <td>2002</td>\n",
       "      <td>150.0</td>\n",
       "      <td>0</td>\n",
       "      <td>0</td>\n",
       "      <td>1541</td>\n",
       "      <td>1541</td>\n",
       "      <td>1541</td>\n",
       "      <td>0</td>\n",
       "      <td>0</td>\n",
       "      <td>1541</td>\n",
       "      <td>0</td>\n",
       "      <td>0</td>\n",
       "      <td>2</td>\n",
       "      <td>0</td>\n",
       "      <td>3</td>\n",
       "      <td>1</td>\n",
       "      <td>6</td>\n",
       "      <td>1</td>\n",
       "      <td>2001.0</td>\n",
       "      <td>3</td>\n",
       "      <td>843</td>\n",
       "      <td>468</td>\n",
       "      <td>81</td>\n",
       "      <td>0</td>\n",
       "      <td>0</td>\n",
       "      <td>0</td>\n",
       "      <td>0</td>\n",
       "      <td>0</td>\n",
       "      <td>1</td>\n",
       "      <td>2006</td>\n",
       "    </tr>\n",
       "  </tbody>\n",
       "</table>\n",
       "</div>"
      ],
      "text/plain": [
       "     MSSubClass  LotFrontage  LotArea  OverallQual  OverallCond  YearBuilt  \\\n",
       "Id                                                                           \n",
       "619          20         90.0    11694            9            5       2007   \n",
       "871          20         60.0     6600            5            5       1962   \n",
       "93           30         80.0    13360            5            7       1921   \n",
       "818          20          NaN    13265            8            5       2002   \n",
       "303          20        118.0    13704            7            5       2001   \n",
       "\n",
       "     YearRemodAdd  MasVnrArea  BsmtFinSF1  BsmtFinSF2  BsmtUnfSF  TotalBsmtSF  \\\n",
       "Id                                                                              \n",
       "619          2007       452.0          48           0       1774         1822   \n",
       "871          1962         0.0           0           0        894          894   \n",
       "93           2006         0.0         713           0        163          876   \n",
       "818          2002       148.0        1218           0        350         1568   \n",
       "303          2002       150.0           0           0       1541         1541   \n",
       "\n",
       "     1stFlrSF  2ndFlrSF  LowQualFinSF  GrLivArea  BsmtFullBath  BsmtHalfBath  \\\n",
       "Id                                                                             \n",
       "619      1828         0             0       1828             0             0   \n",
       "871       894         0             0        894             0             0   \n",
       "93        964         0             0        964             1             0   \n",
       "818      1689         0             0       1689             1             0   \n",
       "303      1541         0             0       1541             0             0   \n",
       "\n",
       "     FullBath  HalfBath  BedroomAbvGr  KitchenAbvGr  TotRmsAbvGrd  Fireplaces  \\\n",
       "Id                                                                              \n",
       "619         2         0             3             1             9           1   \n",
       "871         1         0             2             1             5           0   \n",
       "93          1         0             2             1             5           0   \n",
       "818         2         0             3             1             7           2   \n",
       "303         2         0             3             1             6           1   \n",
       "\n",
       "     GarageYrBlt  GarageCars  GarageArea  WoodDeckSF  OpenPorchSF  \\\n",
       "Id                                                                  \n",
       "619       2007.0           3         774           0          108   \n",
       "871       1962.0           1         308           0            0   \n",
       "93        1921.0           2         432           0            0   \n",
       "818       2002.0           3         857         150           59   \n",
       "303       2001.0           3         843         468           81   \n",
       "\n",
       "     EnclosedPorch  3SsnPorch  ScreenPorch  PoolArea  MiscVal  MoSold  YrSold  \n",
       "Id                                                                             \n",
       "619              0          0          260         0        0       7    2007  \n",
       "871              0          0            0         0        0       8    2009  \n",
       "93              44          0            0         0        0       8    2009  \n",
       "818              0          0            0         0        0       7    2008  \n",
       "303              0          0            0         0        0       1    2006  "
      ]
     },
     "execution_count": 3,
     "metadata": {},
     "output_type": "execute_result"
    }
   ],
   "source": [
    "pd.set_option(\"display.max_columns\",100)\n",
    "X_train.head()"
   ]
  },
  {
   "cell_type": "markdown",
   "id": "07b7cd87",
   "metadata": {
    "papermill": {
     "duration": 0.010048,
     "end_time": "2022-08-03T01:45:40.552190",
     "exception": false,
     "start_time": "2022-08-03T01:45:40.542142",
     "status": "completed"
    },
    "tags": []
   },
   "source": [
    "You can already see a few missing values in the first several rows.  In the next step, you'll obtain a more comprehensive understanding of the missing values in the dataset.\n",
    "\n",
    "# Step 1: Preliminary investigation\n",
    "\n",
    "Run the code cell below without changes."
   ]
  },
  {
   "cell_type": "code",
   "execution_count": 4,
   "id": "7002a0f7",
   "metadata": {
    "execution": {
     "iopub.execute_input": "2022-08-03T01:45:40.578969Z",
     "iopub.status.busy": "2022-08-03T01:45:40.577808Z",
     "iopub.status.idle": "2022-08-03T01:45:40.590013Z",
     "shell.execute_reply": "2022-08-03T01:45:40.587653Z"
    },
    "papermill": {
     "duration": 0.030834,
     "end_time": "2022-08-03T01:45:40.593074",
     "exception": false,
     "start_time": "2022-08-03T01:45:40.562240",
     "status": "completed"
    },
    "tags": []
   },
   "outputs": [
    {
     "name": "stdout",
     "output_type": "stream",
     "text": [
      "(1168, 36)\n",
      "LotFrontage    212\n",
      "MasVnrArea       6\n",
      "GarageYrBlt     58\n",
      "dtype: int64\n"
     ]
    }
   ],
   "source": [
    "# Shape of training data (num_rows, num_columns)\n",
    "print(X_train.shape)\n",
    "\n",
    "# Number of missing values in each column of training data\n",
    "missing_val_count_by_column = (X_train.isnull().sum())\n",
    "print(missing_val_count_by_column[missing_val_count_by_column > 0])"
   ]
  },
  {
   "cell_type": "markdown",
   "id": "642582b4",
   "metadata": {
    "papermill": {
     "duration": 0.010549,
     "end_time": "2022-08-03T01:45:40.613962",
     "exception": false,
     "start_time": "2022-08-03T01:45:40.603413",
     "status": "completed"
    },
    "tags": []
   },
   "source": [
    "### Part A\n",
    "\n",
    "Use the above output to answer the questions below."
   ]
  },
  {
   "cell_type": "code",
   "execution_count": 5,
   "id": "792629c1",
   "metadata": {
    "execution": {
     "iopub.execute_input": "2022-08-03T01:45:40.639422Z",
     "iopub.status.busy": "2022-08-03T01:45:40.638739Z",
     "iopub.status.idle": "2022-08-03T01:45:40.654129Z",
     "shell.execute_reply": "2022-08-03T01:45:40.652997Z"
    },
    "papermill": {
     "duration": 0.032008,
     "end_time": "2022-08-03T01:45:40.656513",
     "exception": false,
     "start_time": "2022-08-03T01:45:40.624505",
     "status": "completed"
    },
    "tags": []
   },
   "outputs": [],
   "source": [
    "%config Completer.use_jedi = False\n",
    "\n",
    "\n"
   ]
  },
  {
   "cell_type": "code",
   "execution_count": 6,
   "id": "af1af11e",
   "metadata": {
    "execution": {
     "iopub.execute_input": "2022-08-03T01:45:40.678468Z",
     "iopub.status.busy": "2022-08-03T01:45:40.677858Z",
     "iopub.status.idle": "2022-08-03T01:45:40.685563Z",
     "shell.execute_reply": "2022-08-03T01:45:40.684180Z"
    },
    "papermill": {
     "duration": 0.021624,
     "end_time": "2022-08-03T01:45:40.688077",
     "exception": false,
     "start_time": "2022-08-03T01:45:40.666453",
     "status": "completed"
    },
    "tags": []
   },
   "outputs": [
    {
     "data": {
      "text/plain": [
       "36"
      ]
     },
     "execution_count": 6,
     "metadata": {},
     "output_type": "execute_result"
    }
   ],
   "source": [
    "len(X_train.columns)"
   ]
  },
  {
   "cell_type": "code",
   "execution_count": 7,
   "id": "cc8bfb96",
   "metadata": {
    "execution": {
     "iopub.execute_input": "2022-08-03T01:45:40.710619Z",
     "iopub.status.busy": "2022-08-03T01:45:40.709366Z",
     "iopub.status.idle": "2022-08-03T01:45:40.723162Z",
     "shell.execute_reply": "2022-08-03T01:45:40.721955Z"
    },
    "papermill": {
     "duration": 0.027763,
     "end_time": "2022-08-03T01:45:40.725811",
     "exception": false,
     "start_time": "2022-08-03T01:45:40.698048",
     "status": "completed"
    },
    "tags": []
   },
   "outputs": [
    {
     "data": {
      "application/javascript": [
       "parent.postMessage({\"jupyterEvent\": \"custom.exercise_interaction\", \"data\": {\"outcomeType\": 1, \"valueTowardsCompletion\": 1.0, \"interactionType\": 1, \"questionType\": 1, \"questionId\": \"1.1_InvestigateEquality\", \"learnToolsVersion\": \"0.3.4\", \"failureMessage\": \"\", \"exceptionClass\": \"\", \"trace\": \"\"}}, \"*\")"
      ],
      "text/plain": [
       "<IPython.core.display.Javascript object>"
      ]
     },
     "metadata": {},
     "output_type": "display_data"
    },
    {
     "data": {
      "text/markdown": [
       "<span style=\"color:#33cc33\">Correct</span>"
      ],
      "text/plain": [
       "Correct"
      ]
     },
     "metadata": {},
     "output_type": "display_data"
    }
   ],
   "source": [
    "# Fill in the line below: How many rows are in the training data?\n",
    "num_rows = len(X_train.index)\n",
    "\n",
    "# Fill in the line below: How many columns in the training data\n",
    "# have missing values?\n",
    "temp = X_train.isnull().sum()\n",
    "num_cols_with_missing = len(temp[temp>0])\n",
    "\n",
    "\n",
    "# Fill in the line below: How many missing entries are contained in \n",
    "# all of the training data?\n",
    "tot_missing = missing_val_count_by_column.sum()\n",
    "\n",
    "# Check your answers\n",
    "step_1.a.check()"
   ]
  },
  {
   "cell_type": "code",
   "execution_count": 8,
   "id": "a909a5ae",
   "metadata": {
    "execution": {
     "iopub.execute_input": "2022-08-03T01:45:40.748111Z",
     "iopub.status.busy": "2022-08-03T01:45:40.747722Z",
     "iopub.status.idle": "2022-08-03T01:45:40.757450Z",
     "shell.execute_reply": "2022-08-03T01:45:40.756005Z"
    },
    "papermill": {
     "duration": 0.024068,
     "end_time": "2022-08-03T01:45:40.760010",
     "exception": false,
     "start_time": "2022-08-03T01:45:40.735942",
     "status": "completed"
    },
    "tags": []
   },
   "outputs": [
    {
     "data": {
      "application/javascript": [
       "parent.postMessage({\"jupyterEvent\": \"custom.exercise_interaction\", \"data\": {\"interactionType\": 2, \"questionType\": 1, \"questionId\": \"1.1_InvestigateEquality\", \"learnToolsVersion\": \"0.3.4\", \"valueTowardsCompletion\": 0.0, \"failureMessage\": \"\", \"exceptionClass\": \"\", \"trace\": \"\", \"outcomeType\": 4}}, \"*\")"
      ],
      "text/plain": [
       "<IPython.core.display.Javascript object>"
      ]
     },
     "metadata": {},
     "output_type": "display_data"
    },
    {
     "data": {
      "text/markdown": [
       "<span style=\"color:#3366cc\">Hint:</span> Use the output of `X_train.shape` to get the number of rows and columns in the training data.  The `missing_val_count_by_column` Series has an entry for each column in the data, and the output above prints the number of missing entries for each column with at least one missing entry."
      ],
      "text/plain": [
       "Hint: Use the output of `X_train.shape` to get the number of rows and columns in the training data.  The `missing_val_count_by_column` Series has an entry for each column in the data, and the output above prints the number of missing entries for each column with at least one missing entry."
      ]
     },
     "metadata": {},
     "output_type": "display_data"
    }
   ],
   "source": [
    "# Lines below will give you a hint or solution code\n",
    "step_1.a.hint()\n",
    "# step_1.a.solution()"
   ]
  },
  {
   "cell_type": "markdown",
   "id": "16be2592",
   "metadata": {
    "papermill": {
     "duration": 0.010467,
     "end_time": "2022-08-03T01:45:40.781002",
     "exception": false,
     "start_time": "2022-08-03T01:45:40.770535",
     "status": "completed"
    },
    "tags": []
   },
   "source": [
    "### Part B\n",
    "Considering your answers above, what do you think is likely the best approach to dealing with the missing values?"
   ]
  },
  {
   "cell_type": "code",
   "execution_count": 9,
   "id": "54c930ba",
   "metadata": {
    "execution": {
     "iopub.execute_input": "2022-08-03T01:45:40.805854Z",
     "iopub.status.busy": "2022-08-03T01:45:40.805035Z",
     "iopub.status.idle": "2022-08-03T01:45:40.814188Z",
     "shell.execute_reply": "2022-08-03T01:45:40.813303Z"
    },
    "papermill": {
     "duration": 0.024871,
     "end_time": "2022-08-03T01:45:40.816560",
     "exception": false,
     "start_time": "2022-08-03T01:45:40.791689",
     "status": "completed"
    },
    "tags": []
   },
   "outputs": [
    {
     "data": {
      "application/javascript": [
       "parent.postMessage({\"jupyterEvent\": \"custom.exercise_interaction\", \"data\": {\"outcomeType\": 1, \"valueTowardsCompletion\": 1.0, \"interactionType\": 1, \"questionType\": 4, \"questionId\": \"1.2_InvestigateThought\", \"learnToolsVersion\": \"0.3.4\", \"failureMessage\": \"\", \"exceptionClass\": \"\", \"trace\": \"\"}}, \"*\")"
      ],
      "text/plain": [
       "<IPython.core.display.Javascript object>"
      ]
     },
     "metadata": {},
     "output_type": "display_data"
    },
    {
     "data": {
      "text/markdown": [
       "<span style=\"color:#33cc33\">Correct:</span> \n",
       "\n",
       "Since there are relatively few missing entries in the data (the column with the greatest percentage of missing values is missing less than 20% of its entries), we can expect that dropping columns is unlikely to yield good results.  This is because we'd be throwing away a lot of valuable data, and so imputation will likely perform better."
      ],
      "text/plain": [
       "Correct: \n",
       "\n",
       "Since there are relatively few missing entries in the data (the column with the greatest percentage of missing values is missing less than 20% of its entries), we can expect that dropping columns is unlikely to yield good results.  This is because we'd be throwing away a lot of valuable data, and so imputation will likely perform better."
      ]
     },
     "metadata": {},
     "output_type": "display_data"
    }
   ],
   "source": [
    "# Check your answer (Run this code cell to receive credit!)\n",
    "step_1.b.check()"
   ]
  },
  {
   "cell_type": "code",
   "execution_count": 10,
   "id": "17aab003",
   "metadata": {
    "execution": {
     "iopub.execute_input": "2022-08-03T01:45:40.840236Z",
     "iopub.status.busy": "2022-08-03T01:45:40.839475Z",
     "iopub.status.idle": "2022-08-03T01:45:40.844204Z",
     "shell.execute_reply": "2022-08-03T01:45:40.843457Z"
    },
    "papermill": {
     "duration": 0.019335,
     "end_time": "2022-08-03T01:45:40.846542",
     "exception": false,
     "start_time": "2022-08-03T01:45:40.827207",
     "status": "completed"
    },
    "tags": []
   },
   "outputs": [],
   "source": [
    "#step_1.b.hint()"
   ]
  },
  {
   "cell_type": "markdown",
   "id": "7e8b994f",
   "metadata": {
    "papermill": {
     "duration": 0.010542,
     "end_time": "2022-08-03T01:45:40.867759",
     "exception": false,
     "start_time": "2022-08-03T01:45:40.857217",
     "status": "completed"
    },
    "tags": []
   },
   "source": [
    "To compare different approaches to dealing with missing values, you'll use the same `score_dataset()` function from the tutorial.  This function reports the [mean absolute error](https://en.wikipedia.org/wiki/Mean_absolute_error) (MAE) from a random forest model."
   ]
  },
  {
   "cell_type": "code",
   "execution_count": 11,
   "id": "5628fc28",
   "metadata": {
    "execution": {
     "iopub.execute_input": "2022-08-03T01:45:40.891048Z",
     "iopub.status.busy": "2022-08-03T01:45:40.890620Z",
     "iopub.status.idle": "2022-08-03T01:45:41.119599Z",
     "shell.execute_reply": "2022-08-03T01:45:41.118535Z"
    },
    "papermill": {
     "duration": 0.243767,
     "end_time": "2022-08-03T01:45:41.122183",
     "exception": false,
     "start_time": "2022-08-03T01:45:40.878416",
     "status": "completed"
    },
    "tags": []
   },
   "outputs": [],
   "source": [
    "from sklearn.ensemble import RandomForestRegressor\n",
    "from sklearn.metrics import mean_absolute_error\n",
    "\n",
    "# Function for comparing different approaches\n",
    "def score_dataset(X_train, X_valid, y_train, y_valid):\n",
    "    model = RandomForestRegressor(n_estimators=100, random_state=0)\n",
    "    model.fit(X_train, y_train)\n",
    "    preds = model.predict(X_valid)\n",
    "    return mean_absolute_error(y_valid, preds)"
   ]
  },
  {
   "cell_type": "markdown",
   "id": "9a35cff6",
   "metadata": {
    "papermill": {
     "duration": 0.010664,
     "end_time": "2022-08-03T01:45:41.143807",
     "exception": false,
     "start_time": "2022-08-03T01:45:41.133143",
     "status": "completed"
    },
    "tags": []
   },
   "source": [
    "# Step 2: Drop columns with missing values\n",
    "\n",
    "In this step, you'll preprocess the data in `X_train` and `X_valid` to remove columns with missing values.  Set the preprocessed DataFrames to `reduced_X_train` and `reduced_X_valid`, respectively.  "
   ]
  },
  {
   "cell_type": "code",
   "execution_count": null,
   "id": "990f978b",
   "metadata": {
    "execution": {
     "iopub.execute_input": "2022-08-03T01:32:41.955552Z",
     "iopub.status.busy": "2022-08-03T01:32:41.954694Z",
     "iopub.status.idle": "2022-08-03T01:32:41.975123Z",
     "shell.execute_reply": "2022-08-03T01:32:41.973772Z",
     "shell.execute_reply.started": "2022-08-03T01:32:41.955509Z"
    },
    "papermill": {
     "duration": 0.010447,
     "end_time": "2022-08-03T01:45:41.165188",
     "exception": false,
     "start_time": "2022-08-03T01:45:41.154741",
     "status": "completed"
    },
    "tags": []
   },
   "outputs": [],
   "source": [
    "\n"
   ]
  },
  {
   "cell_type": "code",
   "execution_count": 12,
   "id": "548b94c4",
   "metadata": {
    "execution": {
     "iopub.execute_input": "2022-08-03T01:45:41.188731Z",
     "iopub.status.busy": "2022-08-03T01:45:41.188040Z",
     "iopub.status.idle": "2022-08-03T01:45:41.217485Z",
     "shell.execute_reply": "2022-08-03T01:45:41.216293Z"
    },
    "papermill": {
     "duration": 0.044131,
     "end_time": "2022-08-03T01:45:41.219918",
     "exception": false,
     "start_time": "2022-08-03T01:45:41.175787",
     "status": "completed"
    },
    "tags": []
   },
   "outputs": [
    {
     "data": {
      "application/javascript": [
       "parent.postMessage({\"jupyterEvent\": \"custom.exercise_interaction\", \"data\": {\"outcomeType\": 1, \"valueTowardsCompletion\": 1.0, \"interactionType\": 1, \"questionType\": 2, \"questionId\": \"2_DropMissing\", \"learnToolsVersion\": \"0.3.4\", \"failureMessage\": \"\", \"exceptionClass\": \"\", \"trace\": \"\"}}, \"*\")"
      ],
      "text/plain": [
       "<IPython.core.display.Javascript object>"
      ]
     },
     "metadata": {},
     "output_type": "display_data"
    },
    {
     "data": {
      "text/markdown": [
       "<span style=\"color:#33cc33\">Correct</span>"
      ],
      "text/plain": [
       "Correct"
      ]
     },
     "metadata": {},
     "output_type": "display_data"
    }
   ],
   "source": [
    "# Fill in the line below: get names of columns with missing values\n",
    "cols_with_missing  = [col for col in X_train.columns if X_train[col].isnull().any() ]\n",
    "\n",
    "# Fill in the lines below: drop columns in training and validation data\n",
    "reduced_X_train = X_train.drop(cols_with_missing , axis=1)\n",
    "reduced_X_valid = X_valid.drop(cols_with_missing , axis=1)\n",
    "\n",
    "\n",
    "# Check your answers\n",
    "step_2.check()"
   ]
  },
  {
   "cell_type": "code",
   "execution_count": 13,
   "id": "77c229fe",
   "metadata": {
    "execution": {
     "iopub.execute_input": "2022-08-03T01:45:41.243984Z",
     "iopub.status.busy": "2022-08-03T01:45:41.243200Z",
     "iopub.status.idle": "2022-08-03T01:45:41.247843Z",
     "shell.execute_reply": "2022-08-03T01:45:41.246638Z"
    },
    "papermill": {
     "duration": 0.019887,
     "end_time": "2022-08-03T01:45:41.250843",
     "exception": false,
     "start_time": "2022-08-03T01:45:41.230956",
     "status": "completed"
    },
    "tags": []
   },
   "outputs": [],
   "source": [
    "# Lines below will give you a hint or solution code\n",
    "#step_2.hint()\n",
    "#step_2.solution()"
   ]
  },
  {
   "cell_type": "markdown",
   "id": "9be2c8ed",
   "metadata": {
    "papermill": {
     "duration": 0.010879,
     "end_time": "2022-08-03T01:45:41.272790",
     "exception": false,
     "start_time": "2022-08-03T01:45:41.261911",
     "status": "completed"
    },
    "tags": []
   },
   "source": [
    "Run the next code cell without changes to obtain the MAE for this approach."
   ]
  },
  {
   "cell_type": "code",
   "execution_count": 14,
   "id": "edab440f",
   "metadata": {
    "execution": {
     "iopub.execute_input": "2022-08-03T01:45:41.298387Z",
     "iopub.status.busy": "2022-08-03T01:45:41.297157Z",
     "iopub.status.idle": "2022-08-03T01:45:42.417708Z",
     "shell.execute_reply": "2022-08-03T01:45:42.416489Z"
    },
    "papermill": {
     "duration": 1.136133,
     "end_time": "2022-08-03T01:45:42.419970",
     "exception": false,
     "start_time": "2022-08-03T01:45:41.283837",
     "status": "completed"
    },
    "tags": []
   },
   "outputs": [
    {
     "name": "stdout",
     "output_type": "stream",
     "text": [
      "MAE (Drop columns with missing values):\n",
      "17837.82570776256\n"
     ]
    }
   ],
   "source": [
    "print(\"MAE (Drop columns with missing values):\")\n",
    "print(score_dataset(reduced_X_train, reduced_X_valid, y_train, y_valid))"
   ]
  },
  {
   "cell_type": "markdown",
   "id": "c65268ce",
   "metadata": {
    "papermill": {
     "duration": 0.010627,
     "end_time": "2022-08-03T01:45:42.441525",
     "exception": false,
     "start_time": "2022-08-03T01:45:42.430898",
     "status": "completed"
    },
    "tags": []
   },
   "source": [
    "# Step 3: Imputation\n",
    "\n",
    "### Part A\n",
    "\n",
    "Use the next code cell to impute missing values with the mean value along each column.  Set the preprocessed DataFrames to `imputed_X_train` and `imputed_X_valid`.  Make sure that the column names match those in `X_train` and `X_valid`."
   ]
  },
  {
   "cell_type": "code",
   "execution_count": 15,
   "id": "665a01fd",
   "metadata": {
    "execution": {
     "iopub.execute_input": "2022-08-03T01:45:42.466439Z",
     "iopub.status.busy": "2022-08-03T01:45:42.465780Z",
     "iopub.status.idle": "2022-08-03T01:45:42.506203Z",
     "shell.execute_reply": "2022-08-03T01:45:42.504937Z"
    },
    "papermill": {
     "duration": 0.055702,
     "end_time": "2022-08-03T01:45:42.508697",
     "exception": false,
     "start_time": "2022-08-03T01:45:42.452995",
     "status": "completed"
    },
    "tags": []
   },
   "outputs": [
    {
     "data": {
      "application/javascript": [
       "parent.postMessage({\"jupyterEvent\": \"custom.exercise_interaction\", \"data\": {\"outcomeType\": 1, \"valueTowardsCompletion\": 1.0, \"interactionType\": 1, \"questionType\": 2, \"questionId\": \"3.1_ImputeCode\", \"learnToolsVersion\": \"0.3.4\", \"failureMessage\": \"\", \"exceptionClass\": \"\", \"trace\": \"\"}}, \"*\")"
      ],
      "text/plain": [
       "<IPython.core.display.Javascript object>"
      ]
     },
     "metadata": {},
     "output_type": "display_data"
    },
    {
     "data": {
      "text/markdown": [
       "<span style=\"color:#33cc33\">Correct</span>"
      ],
      "text/plain": [
       "Correct"
      ]
     },
     "metadata": {},
     "output_type": "display_data"
    }
   ],
   "source": [
    "from sklearn.impute import SimpleImputer\n",
    "\n",
    "# Fill in the lines below: imputation\n",
    "my_imputer = SimpleImputer()\n",
    "imputed_X_train = pd.DataFrame(my_imputer.fit_transform(X_train))\n",
    "imputed_X_valid = pd.DataFrame(my_imputer.transform(X_valid))\n",
    "\n",
    "# Fill in the lines below: imputation removed column names; put them back\n",
    "imputed_X_train.columns = X_train.columns\n",
    "imputed_X_valid.columns = X_valid.columns\n",
    "\n",
    "# Check your answers\n",
    "step_3.a.check()"
   ]
  },
  {
   "cell_type": "code",
   "execution_count": 16,
   "id": "aa3edb0c",
   "metadata": {
    "execution": {
     "iopub.execute_input": "2022-08-03T01:45:42.533118Z",
     "iopub.status.busy": "2022-08-03T01:45:42.532712Z",
     "iopub.status.idle": "2022-08-03T01:45:42.537004Z",
     "shell.execute_reply": "2022-08-03T01:45:42.535784Z"
    },
    "papermill": {
     "duration": 0.019118,
     "end_time": "2022-08-03T01:45:42.539127",
     "exception": false,
     "start_time": "2022-08-03T01:45:42.520009",
     "status": "completed"
    },
    "tags": []
   },
   "outputs": [],
   "source": [
    "# Lines below will give you a hint or solution code\n",
    "#step_3.a.hint()\n",
    "#step_3.a.solution()"
   ]
  },
  {
   "cell_type": "markdown",
   "id": "f4e1cf1d",
   "metadata": {
    "papermill": {
     "duration": 0.010889,
     "end_time": "2022-08-03T01:45:42.561158",
     "exception": false,
     "start_time": "2022-08-03T01:45:42.550269",
     "status": "completed"
    },
    "tags": []
   },
   "source": [
    "Run the next code cell without changes to obtain the MAE for this approach."
   ]
  },
  {
   "cell_type": "code",
   "execution_count": 17,
   "id": "e99b1c26",
   "metadata": {
    "execution": {
     "iopub.execute_input": "2022-08-03T01:45:42.585586Z",
     "iopub.status.busy": "2022-08-03T01:45:42.584946Z",
     "iopub.status.idle": "2022-08-03T01:45:43.823587Z",
     "shell.execute_reply": "2022-08-03T01:45:43.822330Z"
    },
    "papermill": {
     "duration": 1.254027,
     "end_time": "2022-08-03T01:45:43.826331",
     "exception": false,
     "start_time": "2022-08-03T01:45:42.572304",
     "status": "completed"
    },
    "tags": []
   },
   "outputs": [
    {
     "name": "stdout",
     "output_type": "stream",
     "text": [
      "MAE (Imputation):\n",
      "18062.894611872147\n"
     ]
    }
   ],
   "source": [
    "print(\"MAE (Imputation):\")\n",
    "print(score_dataset(imputed_X_train, imputed_X_valid, y_train, y_valid))"
   ]
  },
  {
   "cell_type": "markdown",
   "id": "1b3b0d2b",
   "metadata": {
    "papermill": {
     "duration": 0.010964,
     "end_time": "2022-08-03T01:45:43.848643",
     "exception": false,
     "start_time": "2022-08-03T01:45:43.837679",
     "status": "completed"
    },
    "tags": []
   },
   "source": [
    "### Part B\n",
    "\n",
    "Compare the MAE from each approach.  Does anything surprise you about the results?  Why do you think one approach performed better than the other?"
   ]
  },
  {
   "cell_type": "code",
   "execution_count": 18,
   "id": "3edeb72e",
   "metadata": {
    "execution": {
     "iopub.execute_input": "2022-08-03T01:45:43.873364Z",
     "iopub.status.busy": "2022-08-03T01:45:43.872935Z",
     "iopub.status.idle": "2022-08-03T01:45:43.880620Z",
     "shell.execute_reply": "2022-08-03T01:45:43.879773Z"
    },
    "papermill": {
     "duration": 0.022697,
     "end_time": "2022-08-03T01:45:43.882630",
     "exception": false,
     "start_time": "2022-08-03T01:45:43.859933",
     "status": "completed"
    },
    "tags": []
   },
   "outputs": [
    {
     "data": {
      "application/javascript": [
       "parent.postMessage({\"jupyterEvent\": \"custom.exercise_interaction\", \"data\": {\"outcomeType\": 1, \"valueTowardsCompletion\": 1.0, \"interactionType\": 1, \"questionType\": 4, \"questionId\": \"3.2_ImputeThought\", \"learnToolsVersion\": \"0.3.4\", \"failureMessage\": \"\", \"exceptionClass\": \"\", \"trace\": \"\"}}, \"*\")"
      ],
      "text/plain": [
       "<IPython.core.display.Javascript object>"
      ]
     },
     "metadata": {},
     "output_type": "display_data"
    },
    {
     "data": {
      "text/markdown": [
       "<span style=\"color:#33cc33\">Correct:</span> \n",
       "\n",
       "Given that thre are so few missing values in the dataset, we'd expect imputation to perform better than dropping columns entirely.  However, we see that dropping columns performs slightly better!  While this can probably partially be attributed to noise in the dataset, another potential explanation is that the imputation method is not a great match to this dataset.  That is, maybe instead of filling in the mean value, it makes more sense to set every missing value to a value of 0, to fill in the most frequently encountered value, or to use some other method.  For instance, consider the `GarageYrBlt` column (which indicates the year that the garage was built).  It's likely that in some cases, a missing value could indicate a house that does not have a garage.  Does it make more sense to fill in the median value along each column in this case?  Or could we get better results by filling in the minimum value along each column?  It's not quite clear what's best in this case, but perhaps we can rule out some options immediately - for instance, setting missing values in this column to 0 is likely to yield horrible results!"
      ],
      "text/plain": [
       "Correct: \n",
       "\n",
       "Given that thre are so few missing values in the dataset, we'd expect imputation to perform better than dropping columns entirely.  However, we see that dropping columns performs slightly better!  While this can probably partially be attributed to noise in the dataset, another potential explanation is that the imputation method is not a great match to this dataset.  That is, maybe instead of filling in the mean value, it makes more sense to set every missing value to a value of 0, to fill in the most frequently encountered value, or to use some other method.  For instance, consider the `GarageYrBlt` column (which indicates the year that the garage was built).  It's likely that in some cases, a missing value could indicate a house that does not have a garage.  Does it make more sense to fill in the median value along each column in this case?  Or could we get better results by filling in the minimum value along each column?  It's not quite clear what's best in this case, but perhaps we can rule out some options immediately - for instance, setting missing values in this column to 0 is likely to yield horrible results!"
      ]
     },
     "metadata": {},
     "output_type": "display_data"
    }
   ],
   "source": [
    "# Check your answer (Run this code cell to receive credit!)\n",
    "step_3.b.check()"
   ]
  },
  {
   "cell_type": "code",
   "execution_count": 19,
   "id": "f9881dc3",
   "metadata": {
    "execution": {
     "iopub.execute_input": "2022-08-03T01:45:43.908498Z",
     "iopub.status.busy": "2022-08-03T01:45:43.907748Z",
     "iopub.status.idle": "2022-08-03T01:45:43.912129Z",
     "shell.execute_reply": "2022-08-03T01:45:43.911239Z"
    },
    "papermill": {
     "duration": 0.019738,
     "end_time": "2022-08-03T01:45:43.914366",
     "exception": false,
     "start_time": "2022-08-03T01:45:43.894628",
     "status": "completed"
    },
    "tags": []
   },
   "outputs": [],
   "source": [
    "#step_3.b.hint()"
   ]
  },
  {
   "cell_type": "markdown",
   "id": "dd83f247",
   "metadata": {
    "papermill": {
     "duration": 0.011765,
     "end_time": "2022-08-03T01:45:43.938621",
     "exception": false,
     "start_time": "2022-08-03T01:45:43.926856",
     "status": "completed"
    },
    "tags": []
   },
   "source": [
    "# Step 4: Generate test predictions\n",
    "\n",
    "In this final step, you'll use any approach of your choosing to deal with missing values.  Once you've preprocessed the training and validation features, you'll train and evaluate a random forest model.  Then, you'll preprocess the test data before generating predictions that can be submitted to the competition!\n",
    "\n",
    "### Part A\n",
    "\n",
    "Use the next code cell to preprocess the training and validation data.  Set the preprocessed DataFrames to `final_X_train` and `final_X_valid`.  **You can use any approach of your choosing here!**  in order for this step to be marked as correct, you need only ensure:\n",
    "- the preprocessed DataFrames have the same number of columns,\n",
    "- the preprocessed DataFrames have no missing values, \n",
    "- `final_X_train` and `y_train` have the same number of rows, and\n",
    "- `final_X_valid` and `y_valid` have the same number of rows."
   ]
  },
  {
   "cell_type": "code",
   "execution_count": 20,
   "id": "0d438f9d",
   "metadata": {
    "execution": {
     "iopub.execute_input": "2022-08-03T01:45:43.964232Z",
     "iopub.status.busy": "2022-08-03T01:45:43.963805Z",
     "iopub.status.idle": "2022-08-03T01:45:43.997720Z",
     "shell.execute_reply": "2022-08-03T01:45:43.996520Z"
    },
    "papermill": {
     "duration": 0.049562,
     "end_time": "2022-08-03T01:45:44.000206",
     "exception": false,
     "start_time": "2022-08-03T01:45:43.950644",
     "status": "completed"
    },
    "tags": []
   },
   "outputs": [
    {
     "data": {
      "application/javascript": [
       "parent.postMessage({\"jupyterEvent\": \"custom.exercise_interaction\", \"data\": {\"outcomeType\": 1, \"valueTowardsCompletion\": 1.0, \"interactionType\": 1, \"questionType\": 2, \"questionId\": \"4.1_PredsCodeA\", \"learnToolsVersion\": \"0.3.4\", \"failureMessage\": \"\", \"exceptionClass\": \"\", \"trace\": \"\"}}, \"*\")"
      ],
      "text/plain": [
       "<IPython.core.display.Javascript object>"
      ]
     },
     "metadata": {},
     "output_type": "display_data"
    },
    {
     "data": {
      "text/markdown": [
       "<span style=\"color:#33cc33\">Correct</span>"
      ],
      "text/plain": [
       "Correct"
      ]
     },
     "metadata": {},
     "output_type": "display_data"
    }
   ],
   "source": [
    "# Preprocessed training and validation features\n",
    "final_imputer = SimpleImputer(strategy='median')\n",
    "final_X_train = pd.DataFrame(final_imputer.fit_transform(X_train))\n",
    "final_X_valid = pd.DataFrame(final_imputer.transform(X_valid))\n",
    "\n",
    "final_X_train.columns = X_train.columns\n",
    "final_X_valid.columns = X_valid.columns\n",
    "# Check your answers\n",
    "step_4.a.check()"
   ]
  },
  {
   "cell_type": "code",
   "execution_count": 21,
   "id": "0d0ff3d1",
   "metadata": {
    "execution": {
     "iopub.execute_input": "2022-08-03T01:45:44.027602Z",
     "iopub.status.busy": "2022-08-03T01:45:44.027165Z",
     "iopub.status.idle": "2022-08-03T01:45:44.036064Z",
     "shell.execute_reply": "2022-08-03T01:45:44.034698Z"
    },
    "papermill": {
     "duration": 0.025324,
     "end_time": "2022-08-03T01:45:44.038279",
     "exception": false,
     "start_time": "2022-08-03T01:45:44.012955",
     "status": "completed"
    },
    "tags": []
   },
   "outputs": [
    {
     "data": {
      "application/javascript": [
       "parent.postMessage({\"jupyterEvent\": \"custom.exercise_interaction\", \"data\": {\"interactionType\": 3, \"questionType\": 2, \"questionId\": \"4.1_PredsCodeA\", \"learnToolsVersion\": \"0.3.4\", \"valueTowardsCompletion\": 0.0, \"failureMessage\": \"\", \"exceptionClass\": \"\", \"trace\": \"\", \"outcomeType\": 4}}, \"*\")"
      ],
      "text/plain": [
       "<IPython.core.display.Javascript object>"
      ]
     },
     "metadata": {},
     "output_type": "display_data"
    },
    {
     "data": {
      "text/markdown": [
       "<span style=\"color:#33cc99\">Solution:</span> \n",
       "```python\n",
       "# Imputation\n",
       "final_imputer = SimpleImputer(strategy='median')\n",
       "final_X_train = pd.DataFrame(final_imputer.fit_transform(X_train))\n",
       "final_X_valid = pd.DataFrame(final_imputer.transform(X_valid))\n",
       "\n",
       "# Imputation removed column names; put them back\n",
       "final_X_train.columns = X_train.columns\n",
       "final_X_valid.columns = X_valid.columns\n",
       "\n",
       "```"
      ],
      "text/plain": [
       "Solution: \n",
       "```python\n",
       "# Imputation\n",
       "final_imputer = SimpleImputer(strategy='median')\n",
       "final_X_train = pd.DataFrame(final_imputer.fit_transform(X_train))\n",
       "final_X_valid = pd.DataFrame(final_imputer.transform(X_valid))\n",
       "\n",
       "# Imputation removed column names; put them back\n",
       "final_X_train.columns = X_train.columns\n",
       "final_X_valid.columns = X_valid.columns\n",
       "\n",
       "```"
      ]
     },
     "metadata": {},
     "output_type": "display_data"
    }
   ],
   "source": [
    "# Lines below will give you a hint or solution code\n",
    "#step_4.a.hint()\n",
    "step_4.a.solution()"
   ]
  },
  {
   "cell_type": "markdown",
   "id": "8ecab08c",
   "metadata": {
    "papermill": {
     "duration": 0.011736,
     "end_time": "2022-08-03T01:45:44.062311",
     "exception": false,
     "start_time": "2022-08-03T01:45:44.050575",
     "status": "completed"
    },
    "tags": []
   },
   "source": [
    "Run the next code cell to train and evaluate a random forest model.  (*Note that we don't use the `score_dataset()` function above, because we will soon use the trained model to generate test predictions!*)"
   ]
  },
  {
   "cell_type": "code",
   "execution_count": 22,
   "id": "e4e2377f",
   "metadata": {
    "execution": {
     "iopub.execute_input": "2022-08-03T01:45:44.087886Z",
     "iopub.status.busy": "2022-08-03T01:45:44.087477Z",
     "iopub.status.idle": "2022-08-03T01:45:45.333403Z",
     "shell.execute_reply": "2022-08-03T01:45:45.332050Z"
    },
    "papermill": {
     "duration": 1.261411,
     "end_time": "2022-08-03T01:45:45.335680",
     "exception": false,
     "start_time": "2022-08-03T01:45:44.074269",
     "status": "completed"
    },
    "tags": []
   },
   "outputs": [
    {
     "name": "stdout",
     "output_type": "stream",
     "text": [
      "MAE (Your approach):\n",
      "17791.59899543379\n"
     ]
    }
   ],
   "source": [
    "# Define and fit model\n",
    "model = RandomForestRegressor(n_estimators=100, random_state=0)\n",
    "model.fit(final_X_train, y_train)\n",
    "\n",
    "# Get validation predictions and MAE\n",
    "preds_valid = model.predict(final_X_valid)\n",
    "print(\"MAE (Your approach):\")\n",
    "print(mean_absolute_error(y_valid, preds_valid))"
   ]
  },
  {
   "cell_type": "markdown",
   "id": "14090acb",
   "metadata": {
    "papermill": {
     "duration": 0.012233,
     "end_time": "2022-08-03T01:45:45.360180",
     "exception": false,
     "start_time": "2022-08-03T01:45:45.347947",
     "status": "completed"
    },
    "tags": []
   },
   "source": [
    "### Part B\n",
    "\n",
    "Use the next code cell to preprocess your test data.  Make sure that you use a method that agrees with how you preprocessed the training and validation data, and set the preprocessed test features to `final_X_test`.\n",
    "\n",
    "Then, use the preprocessed test features and the trained model to generate test predictions in `preds_test`.\n",
    "\n",
    "In order for this step to be marked correct, you need only ensure:\n",
    "- the preprocessed test DataFrame has no missing values, and\n",
    "- `final_X_test` has the same number of rows as `X_test`."
   ]
  },
  {
   "cell_type": "code",
   "execution_count": 23,
   "id": "3e26ba67",
   "metadata": {
    "execution": {
     "iopub.execute_input": "2022-08-03T01:45:45.387813Z",
     "iopub.status.busy": "2022-08-03T01:45:45.387390Z",
     "iopub.status.idle": "2022-08-03T01:45:45.460816Z",
     "shell.execute_reply": "2022-08-03T01:45:45.459001Z"
    },
    "papermill": {
     "duration": 0.091539,
     "end_time": "2022-08-03T01:45:45.464073",
     "exception": false,
     "start_time": "2022-08-03T01:45:45.372534",
     "status": "completed"
    },
    "tags": []
   },
   "outputs": [
    {
     "name": "stderr",
     "output_type": "stream",
     "text": [
      "/opt/conda/lib/python3.7/site-packages/sklearn/base.py:451: UserWarning: X does not have valid feature names, but RandomForestRegressor was fitted with feature names\n",
      "  \"X does not have valid feature names, but\"\n"
     ]
    },
    {
     "data": {
      "application/javascript": [
       "parent.postMessage({\"jupyterEvent\": \"custom.exercise_interaction\", \"data\": {\"outcomeType\": 1, \"valueTowardsCompletion\": 1.0, \"interactionType\": 1, \"questionType\": 2, \"questionId\": \"4.2_PredsCodeB\", \"learnToolsVersion\": \"0.3.4\", \"failureMessage\": \"\", \"exceptionClass\": \"\", \"trace\": \"\"}}, \"*\")"
      ],
      "text/plain": [
       "<IPython.core.display.Javascript object>"
      ]
     },
     "metadata": {},
     "output_type": "display_data"
    },
    {
     "data": {
      "text/markdown": [
       "<span style=\"color:#33cc33\">Correct</span>"
      ],
      "text/plain": [
       "Correct"
      ]
     },
     "metadata": {},
     "output_type": "display_data"
    }
   ],
   "source": [
    "# Fill in the line below: preprocess test data\n",
    "final_X_test = pd.DataFrame(final_imputer.fit_transform(X_test))\n",
    "\n",
    "# Fill in the line below: get test predictions\n",
    "preds_test = model.predict(final_X_test)\n",
    "\n",
    "# Check your answers\n",
    "step_4.b.check()"
   ]
  },
  {
   "cell_type": "code",
   "execution_count": 24,
   "id": "65d8fc8c",
   "metadata": {
    "execution": {
     "iopub.execute_input": "2022-08-03T01:45:45.494498Z",
     "iopub.status.busy": "2022-08-03T01:45:45.492700Z",
     "iopub.status.idle": "2022-08-03T01:45:45.503337Z",
     "shell.execute_reply": "2022-08-03T01:45:45.502209Z"
    },
    "papermill": {
     "duration": 0.02997,
     "end_time": "2022-08-03T01:45:45.507079",
     "exception": false,
     "start_time": "2022-08-03T01:45:45.477109",
     "status": "completed"
    },
    "tags": []
   },
   "outputs": [
    {
     "data": {
      "application/javascript": [
       "parent.postMessage({\"jupyterEvent\": \"custom.exercise_interaction\", \"data\": {\"interactionType\": 3, \"questionType\": 2, \"questionId\": \"4.2_PredsCodeB\", \"learnToolsVersion\": \"0.3.4\", \"valueTowardsCompletion\": 0.0, \"failureMessage\": \"\", \"exceptionClass\": \"\", \"trace\": \"\", \"outcomeType\": 4}}, \"*\")"
      ],
      "text/plain": [
       "<IPython.core.display.Javascript object>"
      ]
     },
     "metadata": {},
     "output_type": "display_data"
    },
    {
     "data": {
      "text/markdown": [
       "<span style=\"color:#33cc99\">Solution:</span> \n",
       "```python\n",
       "# Preprocess test data\n",
       "final_X_test = pd.DataFrame(final_imputer.transform(X_test))\n",
       "\n",
       "# Get test predictions\n",
       "preds_test = model.predict(final_X_test)\n",
       "\n",
       "```"
      ],
      "text/plain": [
       "Solution: \n",
       "```python\n",
       "# Preprocess test data\n",
       "final_X_test = pd.DataFrame(final_imputer.transform(X_test))\n",
       "\n",
       "# Get test predictions\n",
       "preds_test = model.predict(final_X_test)\n",
       "\n",
       "```"
      ]
     },
     "metadata": {},
     "output_type": "display_data"
    }
   ],
   "source": [
    "# Lines below will give you a hint or solution code\n",
    "#step_4.b.hint()\n",
    "step_4.b.solution()"
   ]
  },
  {
   "cell_type": "markdown",
   "id": "bf09cc02",
   "metadata": {
    "papermill": {
     "duration": 0.014292,
     "end_time": "2022-08-03T01:45:45.536680",
     "exception": false,
     "start_time": "2022-08-03T01:45:45.522388",
     "status": "completed"
    },
    "tags": []
   },
   "source": [
    "Run the next code cell without changes to save your results to a CSV file that can be submitted directly to the competition."
   ]
  },
  {
   "cell_type": "code",
   "execution_count": 25,
   "id": "48df6f02",
   "metadata": {
    "execution": {
     "iopub.execute_input": "2022-08-03T01:45:45.564829Z",
     "iopub.status.busy": "2022-08-03T01:45:45.564403Z",
     "iopub.status.idle": "2022-08-03T01:45:45.577269Z",
     "shell.execute_reply": "2022-08-03T01:45:45.575754Z"
    },
    "papermill": {
     "duration": 0.030519,
     "end_time": "2022-08-03T01:45:45.580405",
     "exception": false,
     "start_time": "2022-08-03T01:45:45.549886",
     "status": "completed"
    },
    "tags": []
   },
   "outputs": [],
   "source": [
    "# Save test predictions to file\n",
    "output = pd.DataFrame({'Id': X_test.index,\n",
    "                       'SalePrice': preds_test})\n",
    "output.to_csv('submission.csv', index=False)"
   ]
  },
  {
   "cell_type": "markdown",
   "id": "e71d6101",
   "metadata": {
    "papermill": {
     "duration": 0.014534,
     "end_time": "2022-08-03T01:45:45.607871",
     "exception": false,
     "start_time": "2022-08-03T01:45:45.593337",
     "status": "completed"
    },
    "tags": []
   },
   "source": [
    "# Submit your results\n",
    "\n",
    "Once you have successfully completed Step 4, you're ready to submit your results to the leaderboard!  (_You also learned how to do this in the previous exercise.  If you need a reminder of how to do this, please use the instructions below._)  \n",
    "\n",
    "First, you'll need to join the competition if you haven't already.  So open a new window by clicking on [this link](https://www.kaggle.com/c/home-data-for-ml-course).  Then click on the **Join Competition** button.\n",
    "\n",
    "![join competition image](https://i.imgur.com/wLmFtH3.png)\n",
    "\n",
    "Next, follow the instructions below:\n",
    "1. Begin by clicking on the **Save Version** button in the top right corner of the window.  This will generate a pop-up window.  \n",
    "2. Ensure that the **Save and Run All** option is selected, and then click on the **Save** button.\n",
    "3. This generates a window in the bottom left corner of the notebook.  After it has finished running, click on the number to the right of the **Save Version** button.  This pulls up a list of versions on the right of the screen.  Click on the ellipsis **(...)** to the right of the most recent version, and select **Open in Viewer**.  This brings you into view mode of the same page. You will need to scroll down to get back to these instructions.\n",
    "4. Click on the **Output** tab on the right of the screen.  Then, click on the file you would like to submit, and click on the **Submit** button to submit your results to the leaderboard.\n",
    "\n",
    "You have now successfully submitted to the competition!\n",
    "\n",
    "If you want to keep working to improve your performance, select the **Edit** button in the top right of the screen. Then you can change your code and repeat the process. There's a lot of room to improve, and you will climb up the leaderboard as you work.\n",
    "\n",
    "\n",
    "# Keep going\n",
    "\n",
    "Move on to learn what **[categorical variables](https://www.kaggle.com/alexisbcook/categorical-variables)** are, along with how to incorporate them into your machine learning models.  Categorical variables are very common in real-world data, but you'll get an error if you try to plug them into your models without processing them first!"
   ]
  },
  {
   "cell_type": "markdown",
   "id": "dc0b2214",
   "metadata": {
    "papermill": {
     "duration": 0.012698,
     "end_time": "2022-08-03T01:45:45.634636",
     "exception": false,
     "start_time": "2022-08-03T01:45:45.621938",
     "status": "completed"
    },
    "tags": []
   },
   "source": [
    "---\n",
    "\n",
    "\n",
    "\n",
    "\n",
    "*Have questions or comments? Visit the [course discussion forum](https://www.kaggle.com/learn/intermediate-machine-learning/discussion) to chat with other learners.*"
   ]
  }
 ],
 "metadata": {
  "kernelspec": {
   "display_name": "Python 3",
   "language": "python",
   "name": "python3"
  },
  "language_info": {
   "codemirror_mode": {
    "name": "ipython",
    "version": 3
   },
   "file_extension": ".py",
   "mimetype": "text/x-python",
   "name": "python",
   "nbconvert_exporter": "python",
   "pygments_lexer": "ipython3",
   "version": "3.7.12"
  },
  "papermill": {
   "default_parameters": {},
   "duration": 17.479859,
   "end_time": "2022-08-03T01:45:46.369688",
   "environment_variables": {},
   "exception": null,
   "input_path": "__notebook__.ipynb",
   "output_path": "__notebook__.ipynb",
   "parameters": {},
   "start_time": "2022-08-03T01:45:28.889829",
   "version": "2.3.4"
  }
 },
 "nbformat": 4,
 "nbformat_minor": 5
}
