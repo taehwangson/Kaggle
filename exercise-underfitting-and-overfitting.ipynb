{
 "cells": [
  {
   "cell_type": "markdown",
   "id": "11bfecfd",
   "metadata": {
    "papermill": {
     "duration": 0.00455,
     "end_time": "2022-08-02T03:12:25.441940",
     "exception": false,
     "start_time": "2022-08-02T03:12:25.437390",
     "status": "completed"
    },
    "tags": []
   },
   "source": [
    "**This notebook is an exercise in the [Introduction to Machine Learning](https://www.kaggle.com/learn/intro-to-machine-learning) course.  You can reference the tutorial at [this link](https://www.kaggle.com/dansbecker/underfitting-and-overfitting).**\n",
    "\n",
    "---\n"
   ]
  },
  {
   "cell_type": "markdown",
   "id": "e40a32e7",
   "metadata": {
    "papermill": {
     "duration": 0.002842,
     "end_time": "2022-08-02T03:12:25.448196",
     "exception": false,
     "start_time": "2022-08-02T03:12:25.445354",
     "status": "completed"
    },
    "tags": []
   },
   "source": [
    "## Recap\n",
    "You've built your first model, and now it's time to optimize the size of the tree to make better predictions. Run this cell to set up your coding environment where the previous step left off."
   ]
  },
  {
   "cell_type": "code",
   "execution_count": 1,
   "id": "796df28a",
   "metadata": {
    "execution": {
     "iopub.execute_input": "2022-08-02T03:12:25.456649Z",
     "iopub.status.busy": "2022-08-02T03:12:25.456059Z",
     "iopub.status.idle": "2022-08-02T03:12:26.850872Z",
     "shell.execute_reply": "2022-08-02T03:12:26.849000Z"
    },
    "papermill": {
     "duration": 1.402754,
     "end_time": "2022-08-02T03:12:26.854006",
     "exception": false,
     "start_time": "2022-08-02T03:12:25.451252",
     "status": "completed"
    },
    "tags": []
   },
   "outputs": [
    {
     "name": "stdout",
     "output_type": "stream",
     "text": [
      "Validation MAE: 29,653\n",
      "\n",
      "Setup complete\n"
     ]
    }
   ],
   "source": [
    "# Code you have previously used to load data\n",
    "import pandas as pd\n",
    "from sklearn.metrics import mean_absolute_error\n",
    "from sklearn.model_selection import train_test_split\n",
    "from sklearn.tree import DecisionTreeRegressor\n",
    "\n",
    "\n",
    "# Path of the file to read\n",
    "iowa_file_path = '../input/home-data-for-ml-course/train.csv'\n",
    "\n",
    "home_data = pd.read_csv(iowa_file_path)\n",
    "# Create target object and call it y\n",
    "y = home_data.SalePrice\n",
    "# Create X\n",
    "features = ['LotArea', 'YearBuilt', '1stFlrSF', '2ndFlrSF', 'FullBath', 'BedroomAbvGr', 'TotRmsAbvGrd']\n",
    "X = home_data[features]\n",
    "\n",
    "# Split into validation and training data\n",
    "train_X, val_X, train_y, val_y = train_test_split(X, y, random_state=1)\n",
    "\n",
    "# Specify Model\n",
    "iowa_model = DecisionTreeRegressor(random_state=1)\n",
    "# Fit Model\n",
    "iowa_model.fit(train_X, train_y)\n",
    "\n",
    "# Make validation predictions and calculate mean absolute error\n",
    "val_predictions = iowa_model.predict(val_X)\n",
    "val_mae = mean_absolute_error(val_predictions, val_y)\n",
    "print(\"Validation MAE: {:,.0f}\".format(val_mae))\n",
    "\n",
    "# Set up code checking\n",
    "from learntools.core import binder\n",
    "binder.bind(globals())\n",
    "from learntools.machine_learning.ex5 import *\n",
    "print(\"\\nSetup complete\")"
   ]
  },
  {
   "cell_type": "markdown",
   "id": "6880b52c",
   "metadata": {
    "papermill": {
     "duration": 0.002966,
     "end_time": "2022-08-02T03:12:26.860710",
     "exception": false,
     "start_time": "2022-08-02T03:12:26.857744",
     "status": "completed"
    },
    "tags": []
   },
   "source": [
    "# Exercises\n",
    "You could write the function `get_mae` yourself. For now, we'll supply it. This is the same function you read about in the previous lesson. Just run the cell below."
   ]
  },
  {
   "cell_type": "code",
   "execution_count": 2,
   "id": "e471c4d6",
   "metadata": {
    "execution": {
     "iopub.execute_input": "2022-08-02T03:12:26.869942Z",
     "iopub.status.busy": "2022-08-02T03:12:26.868780Z",
     "iopub.status.idle": "2022-08-02T03:12:26.875503Z",
     "shell.execute_reply": "2022-08-02T03:12:26.874508Z"
    },
    "papermill": {
     "duration": 0.013907,
     "end_time": "2022-08-02T03:12:26.877964",
     "exception": false,
     "start_time": "2022-08-02T03:12:26.864057",
     "status": "completed"
    },
    "tags": []
   },
   "outputs": [],
   "source": [
    "def get_mae(max_leaf_nodes, train_X, val_X, train_y, val_y):\n",
    "    model = DecisionTreeRegressor(max_leaf_nodes=max_leaf_nodes, random_state=0)\n",
    "    model.fit(train_X, train_y)\n",
    "    preds_val = model.predict(val_X)\n",
    "    mae = mean_absolute_error(val_y, preds_val)\n",
    "    return(mae)"
   ]
  },
  {
   "cell_type": "markdown",
   "id": "2b8109f0",
   "metadata": {
    "papermill": {
     "duration": 0.003263,
     "end_time": "2022-08-02T03:12:26.884453",
     "exception": false,
     "start_time": "2022-08-02T03:12:26.881190",
     "status": "completed"
    },
    "tags": []
   },
   "source": [
    "## Step 1: Compare Different Tree Sizes\n",
    "Write a loop that tries the following values for *max_leaf_nodes* from a set of possible values.\n",
    "\n",
    "Call the *get_mae* function on each value of max_leaf_nodes. Store the output in some way that allows you to select the value of `max_leaf_nodes` that gives the most accurate model on your data."
   ]
  },
  {
   "cell_type": "code",
   "execution_count": 3,
   "id": "ea6a5bba",
   "metadata": {
    "execution": {
     "iopub.execute_input": "2022-08-02T03:12:26.893259Z",
     "iopub.status.busy": "2022-08-02T03:12:26.892306Z",
     "iopub.status.idle": "2022-08-02T03:12:26.942555Z",
     "shell.execute_reply": "2022-08-02T03:12:26.941367Z"
    },
    "papermill": {
     "duration": 0.057647,
     "end_time": "2022-08-02T03:12:26.945359",
     "exception": false,
     "start_time": "2022-08-02T03:12:26.887712",
     "status": "completed"
    },
    "tags": []
   },
   "outputs": [
    {
     "data": {
      "application/javascript": [
       "parent.postMessage({\"jupyterEvent\": \"custom.exercise_interaction\", \"data\": {\"outcomeType\": 1, \"valueTowardsCompletion\": 0.5, \"interactionType\": 1, \"questionType\": 1, \"questionId\": \"1_BestTreeSize\", \"learnToolsVersion\": \"0.3.4\", \"failureMessage\": \"\", \"exceptionClass\": \"\", \"trace\": \"\"}}, \"*\")"
      ],
      "text/plain": [
       "<IPython.core.display.Javascript object>"
      ]
     },
     "metadata": {},
     "output_type": "display_data"
    },
    {
     "data": {
      "text/markdown": [
       "<span style=\"color:#33cc33\">Correct</span>"
      ],
      "text/plain": [
       "Correct"
      ]
     },
     "metadata": {},
     "output_type": "display_data"
    }
   ],
   "source": [
    "candidate_max_leaf_nodes = [5, 25, 50, 100, 250, 500]\n",
    "# Write loop to find the ideal tree size from candidate_max_leaf_nodes\n",
    "mae = []\n",
    "for ii in candidate_max_leaf_nodes:\n",
    "    mae.append(get_mae(ii, train_X, val_X, train_y, val_y))\n",
    "    \n",
    "import numpy as np\n",
    "idx_best_tree_size = np.argmin(mae)\n",
    "\n",
    "# Store the best value of max_leaf_nodes (it will be either 5, 25, 50, 100, 250 or 500)\n",
    "best_tree_size = candidate_max_leaf_nodes[idx_best_tree_size]\n",
    "\n",
    "# Check your answer\n",
    "step_1.check()"
   ]
  },
  {
   "cell_type": "code",
   "execution_count": 4,
   "id": "cb5fb6ef",
   "metadata": {
    "execution": {
     "iopub.execute_input": "2022-08-02T03:12:26.954526Z",
     "iopub.status.busy": "2022-08-02T03:12:26.953825Z",
     "iopub.status.idle": "2022-08-02T03:12:26.963723Z",
     "shell.execute_reply": "2022-08-02T03:12:26.962504Z"
    },
    "papermill": {
     "duration": 0.01854,
     "end_time": "2022-08-02T03:12:26.967560",
     "exception": false,
     "start_time": "2022-08-02T03:12:26.949020",
     "status": "completed"
    },
    "tags": []
   },
   "outputs": [
    {
     "data": {
      "application/javascript": [
       "parent.postMessage({\"jupyterEvent\": \"custom.exercise_interaction\", \"data\": {\"interactionType\": 3, \"questionType\": 1, \"questionId\": \"1_BestTreeSize\", \"learnToolsVersion\": \"0.3.4\", \"valueTowardsCompletion\": 0.0, \"failureMessage\": \"\", \"exceptionClass\": \"\", \"trace\": \"\", \"outcomeType\": 4}}, \"*\")"
      ],
      "text/plain": [
       "<IPython.core.display.Javascript object>"
      ]
     },
     "metadata": {},
     "output_type": "display_data"
    },
    {
     "data": {
      "text/markdown": [
       "<span style=\"color:#33cc99\">Solution:</span> \n",
       "```python\n",
       "# Here is a short solution with a dict comprehension.\n",
       "# The lesson gives an example of how to do this with an explicit loop.\n",
       "scores = {leaf_size: get_mae(leaf_size, train_X, val_X, train_y, val_y) for leaf_size in candidate_max_leaf_nodes}\n",
       "best_tree_size = min(scores, key=scores.get)\n",
       "\n",
       "```"
      ],
      "text/plain": [
       "Solution: \n",
       "```python\n",
       "# Here is a short solution with a dict comprehension.\n",
       "# The lesson gives an example of how to do this with an explicit loop.\n",
       "scores = {leaf_size: get_mae(leaf_size, train_X, val_X, train_y, val_y) for leaf_size in candidate_max_leaf_nodes}\n",
       "best_tree_size = min(scores, key=scores.get)\n",
       "\n",
       "```"
      ]
     },
     "metadata": {},
     "output_type": "display_data"
    }
   ],
   "source": [
    "# The lines below will show you a hint or the solution.\n",
    "# step_1.hint() \n",
    "step_1.solution()"
   ]
  },
  {
   "cell_type": "markdown",
   "id": "75097e5f",
   "metadata": {
    "papermill": {
     "duration": 0.003734,
     "end_time": "2022-08-02T03:12:26.975283",
     "exception": false,
     "start_time": "2022-08-02T03:12:26.971549",
     "status": "completed"
    },
    "tags": []
   },
   "source": [
    "## Step 2: Fit Model Using All Data\n",
    "You know the best tree size. If you were going to deploy this model in practice, you would make it even more accurate by using all of the data and keeping that tree size.  That is, you don't need to hold out the validation data now that you've made all your modeling decisions."
   ]
  },
  {
   "cell_type": "code",
   "execution_count": 5,
   "id": "0d70cadc",
   "metadata": {
    "execution": {
     "iopub.execute_input": "2022-08-02T03:12:26.985787Z",
     "iopub.status.busy": "2022-08-02T03:12:26.984508Z",
     "iopub.status.idle": "2022-08-02T03:12:27.004549Z",
     "shell.execute_reply": "2022-08-02T03:12:27.003378Z"
    },
    "papermill": {
     "duration": 0.027745,
     "end_time": "2022-08-02T03:12:27.006928",
     "exception": false,
     "start_time": "2022-08-02T03:12:26.979183",
     "status": "completed"
    },
    "tags": []
   },
   "outputs": [
    {
     "data": {
      "application/javascript": [
       "parent.postMessage({\"jupyterEvent\": \"custom.exercise_interaction\", \"data\": {\"outcomeType\": 1, \"valueTowardsCompletion\": 0.5, \"interactionType\": 1, \"questionType\": 2, \"questionId\": \"2_FitModelWithAllData\", \"learnToolsVersion\": \"0.3.4\", \"failureMessage\": \"\", \"exceptionClass\": \"\", \"trace\": \"\"}}, \"*\")"
      ],
      "text/plain": [
       "<IPython.core.display.Javascript object>"
      ]
     },
     "metadata": {},
     "output_type": "display_data"
    },
    {
     "data": {
      "text/markdown": [
       "<span style=\"color:#33cc33\">Correct</span>"
      ],
      "text/plain": [
       "Correct"
      ]
     },
     "metadata": {},
     "output_type": "display_data"
    }
   ],
   "source": [
    "# Fill in argument to make optimal size and uncomment\n",
    "final_model = DecisionTreeRegressor(max_leaf_nodes=best_tree_size)\n",
    "\n",
    "# fit the final model and uncomment the next two lines\n",
    "final_model.fit(X, y)\n",
    "\n",
    "# Check your answer\n",
    "step_2.check()"
   ]
  },
  {
   "cell_type": "code",
   "execution_count": 6,
   "id": "a014563d",
   "metadata": {
    "execution": {
     "iopub.execute_input": "2022-08-02T03:12:27.017481Z",
     "iopub.status.busy": "2022-08-02T03:12:27.016445Z",
     "iopub.status.idle": "2022-08-02T03:12:27.021541Z",
     "shell.execute_reply": "2022-08-02T03:12:27.020417Z"
    },
    "papermill": {
     "duration": 0.012747,
     "end_time": "2022-08-02T03:12:27.023967",
     "exception": false,
     "start_time": "2022-08-02T03:12:27.011220",
     "status": "completed"
    },
    "tags": []
   },
   "outputs": [],
   "source": [
    "# step_2.hint()\n",
    "# step_2.solution()"
   ]
  },
  {
   "cell_type": "markdown",
   "id": "347721a1",
   "metadata": {
    "papermill": {
     "duration": 0.003382,
     "end_time": "2022-08-02T03:12:27.031076",
     "exception": false,
     "start_time": "2022-08-02T03:12:27.027694",
     "status": "completed"
    },
    "tags": []
   },
   "source": [
    "You've tuned this model and improved your results. But we are still using Decision Tree models, which are not very sophisticated by modern machine learning standards. In the next step you will learn to use Random Forests to improve your models even more.\n",
    "\n",
    "# Keep Going\n",
    "\n",
    "You are ready for **[Random Forests](https://www.kaggle.com/dansbecker/random-forests).**\n"
   ]
  },
  {
   "cell_type": "markdown",
   "id": "6a7714f1",
   "metadata": {
    "papermill": {
     "duration": 0.003913,
     "end_time": "2022-08-02T03:12:27.039139",
     "exception": false,
     "start_time": "2022-08-02T03:12:27.035226",
     "status": "completed"
    },
    "tags": []
   },
   "source": [
    "---\n",
    "\n",
    "\n",
    "\n",
    "\n",
    "*Have questions or comments? Visit the [course discussion forum](https://www.kaggle.com/learn/intro-to-machine-learning/discussion) to chat with other learners.*"
   ]
  }
 ],
 "metadata": {
  "kernelspec": {
   "display_name": "Python 3",
   "language": "python",
   "name": "python3"
  },
  "language_info": {
   "codemirror_mode": {
    "name": "ipython",
    "version": 3
   },
   "file_extension": ".py",
   "mimetype": "text/x-python",
   "name": "python",
   "nbconvert_exporter": "python",
   "pygments_lexer": "ipython3",
   "version": "3.7.12"
  },
  "papermill": {
   "default_parameters": {},
   "duration": 11.97601,
   "end_time": "2022-08-02T03:12:27.766550",
   "environment_variables": {},
   "exception": null,
   "input_path": "__notebook__.ipynb",
   "output_path": "__notebook__.ipynb",
   "parameters": {},
   "start_time": "2022-08-02T03:12:15.790540",
   "version": "2.3.4"
  }
 },
 "nbformat": 4,
 "nbformat_minor": 5
}
