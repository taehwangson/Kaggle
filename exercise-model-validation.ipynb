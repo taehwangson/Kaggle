{
 "cells": [
  {
   "cell_type": "markdown",
   "id": "39c50a94",
   "metadata": {
    "papermill": {
     "duration": 0.005092,
     "end_time": "2022-08-01T22:39:28.863077",
     "exception": false,
     "start_time": "2022-08-01T22:39:28.857985",
     "status": "completed"
    },
    "tags": []
   },
   "source": [
    "**This notebook is an exercise in the [Introduction to Machine Learning](https://www.kaggle.com/learn/intro-to-machine-learning) course.  You can reference the tutorial at [this link](https://www.kaggle.com/dansbecker/model-validation).**\n",
    "\n",
    "---\n"
   ]
  },
  {
   "cell_type": "markdown",
   "id": "165ae3a2",
   "metadata": {
    "papermill": {
     "duration": 0.003541,
     "end_time": "2022-08-01T22:39:28.870787",
     "exception": false,
     "start_time": "2022-08-01T22:39:28.867246",
     "status": "completed"
    },
    "tags": []
   },
   "source": [
    "## Recap\n",
    "You've built a model. In this exercise you will test how good your model is.\n",
    "\n",
    "Run the cell below to set up your coding environment where the previous exercise left off."
   ]
  },
  {
   "cell_type": "code",
   "execution_count": 1,
   "id": "dead7e00",
   "metadata": {
    "execution": {
     "iopub.execute_input": "2022-08-01T22:39:28.881752Z",
     "iopub.status.busy": "2022-08-01T22:39:28.881269Z",
     "iopub.status.idle": "2022-08-01T22:39:30.411932Z",
     "shell.execute_reply": "2022-08-01T22:39:30.409953Z"
    },
    "papermill": {
     "duration": 1.540746,
     "end_time": "2022-08-01T22:39:30.415305",
     "exception": false,
     "start_time": "2022-08-01T22:39:28.874559",
     "status": "completed"
    },
    "tags": []
   },
   "outputs": [
    {
     "name": "stdout",
     "output_type": "stream",
     "text": [
      "First in-sample predictions: [208500. 181500. 223500. 140000. 250000.]\n",
      "Actual target values for those homes: [208500, 181500, 223500, 140000, 250000]\n",
      "Setup Complete\n"
     ]
    }
   ],
   "source": [
    "# Code you have previously used to load data\n",
    "import pandas as pd\n",
    "from sklearn.tree import DecisionTreeRegressor\n",
    "\n",
    "# Path of the file to read\n",
    "iowa_file_path = '../input/home-data-for-ml-course/train.csv'\n",
    "\n",
    "home_data = pd.read_csv(iowa_file_path)\n",
    "y = home_data.SalePrice\n",
    "feature_columns = ['LotArea', 'YearBuilt', '1stFlrSF', '2ndFlrSF', 'FullBath', 'BedroomAbvGr', 'TotRmsAbvGrd']\n",
    "X = home_data[feature_columns]\n",
    "\n",
    "# Specify Model\n",
    "iowa_model = DecisionTreeRegressor()\n",
    "# Fit Model\n",
    "iowa_model.fit(X, y)\n",
    "\n",
    "print(\"First in-sample predictions:\", iowa_model.predict(X.head()))\n",
    "print(\"Actual target values for those homes:\", y.head().tolist())\n",
    "\n",
    "# Set up code checking\n",
    "from learntools.core import binder\n",
    "binder.bind(globals())\n",
    "from learntools.machine_learning.ex4 import *\n",
    "print(\"Setup Complete\")"
   ]
  },
  {
   "cell_type": "markdown",
   "id": "3e937e28",
   "metadata": {
    "papermill": {
     "duration": 0.003977,
     "end_time": "2022-08-01T22:39:30.424170",
     "exception": false,
     "start_time": "2022-08-01T22:39:30.420193",
     "status": "completed"
    },
    "tags": []
   },
   "source": [
    "# Exercises\n",
    "\n",
    "## Step 1: Split Your Data\n",
    "Use the `train_test_split` function to split up your data.\n",
    "\n",
    "Give it the argument `random_state=1` so the `check` functions know what to expect when verifying your code.\n",
    "\n",
    "Recall, your features are loaded in the DataFrame **X** and your target is loaded in **y**.\n"
   ]
  },
  {
   "cell_type": "code",
   "execution_count": 2,
   "id": "8501061e",
   "metadata": {
    "execution": {
     "iopub.execute_input": "2022-08-01T22:39:30.435042Z",
     "iopub.status.busy": "2022-08-01T22:39:30.434061Z",
     "iopub.status.idle": "2022-08-01T22:39:30.452809Z",
     "shell.execute_reply": "2022-08-01T22:39:30.451361Z"
    },
    "papermill": {
     "duration": 0.0268,
     "end_time": "2022-08-01T22:39:30.455166",
     "exception": false,
     "start_time": "2022-08-01T22:39:30.428366",
     "status": "completed"
    },
    "tags": []
   },
   "outputs": [
    {
     "data": {
      "application/javascript": [
       "parent.postMessage({\"jupyterEvent\": \"custom.exercise_interaction\", \"data\": {\"outcomeType\": 1, \"valueTowardsCompletion\": 0.25, \"interactionType\": 1, \"questionType\": 2, \"questionId\": \"1_SplitData\", \"learnToolsVersion\": \"0.3.4\", \"failureMessage\": \"\", \"exceptionClass\": \"\", \"trace\": \"\"}}, \"*\")"
      ],
      "text/plain": [
       "<IPython.core.display.Javascript object>"
      ]
     },
     "metadata": {},
     "output_type": "display_data"
    },
    {
     "data": {
      "text/markdown": [
       "<span style=\"color:#33cc33\">Correct</span>"
      ],
      "text/plain": [
       "Correct"
      ]
     },
     "metadata": {},
     "output_type": "display_data"
    }
   ],
   "source": [
    "# Import the train_test_split function and uncomment\n",
    "from sklearn.model_selection import train_test_split\n",
    "\n",
    "\n",
    "# fill in and uncomment\n",
    "train_X, val_X, train_y, val_y = train_test_split(X, y, random_state=1)\n",
    "\n",
    "# Check your answer\n",
    "step_1.check()"
   ]
  },
  {
   "cell_type": "code",
   "execution_count": 3,
   "id": "932dacaa",
   "metadata": {
    "execution": {
     "iopub.execute_input": "2022-08-01T22:39:30.466311Z",
     "iopub.status.busy": "2022-08-01T22:39:30.465849Z",
     "iopub.status.idle": "2022-08-01T22:39:30.472284Z",
     "shell.execute_reply": "2022-08-01T22:39:30.470776Z"
    },
    "papermill": {
     "duration": 0.01499,
     "end_time": "2022-08-01T22:39:30.474682",
     "exception": false,
     "start_time": "2022-08-01T22:39:30.459692",
     "status": "completed"
    },
    "tags": []
   },
   "outputs": [],
   "source": [
    "# The lines below will show you a hint or the solution.\n",
    "# step_1.hint() \n",
    "# step_1.solution()\n"
   ]
  },
  {
   "cell_type": "markdown",
   "id": "7acca126",
   "metadata": {
    "papermill": {
     "duration": 0.004055,
     "end_time": "2022-08-01T22:39:30.482996",
     "exception": false,
     "start_time": "2022-08-01T22:39:30.478941",
     "status": "completed"
    },
    "tags": []
   },
   "source": [
    "## Step 2: Specify and Fit the Model\n",
    "\n",
    "Create a `DecisionTreeRegressor` model and fit it to the relevant data.\n",
    "Set `random_state` to 1 again when creating the model."
   ]
  },
  {
   "cell_type": "code",
   "execution_count": 4,
   "id": "84717250",
   "metadata": {
    "execution": {
     "iopub.execute_input": "2022-08-01T22:39:30.495370Z",
     "iopub.status.busy": "2022-08-01T22:39:30.494129Z",
     "iopub.status.idle": "2022-08-01T22:39:30.523664Z",
     "shell.execute_reply": "2022-08-01T22:39:30.522808Z"
    },
    "papermill": {
     "duration": 0.038832,
     "end_time": "2022-08-01T22:39:30.526110",
     "exception": false,
     "start_time": "2022-08-01T22:39:30.487278",
     "status": "completed"
    },
    "tags": []
   },
   "outputs": [
    {
     "name": "stdout",
     "output_type": "stream",
     "text": [
      "[186500. 184000. 130000.  92000. 164500. 220000. 335000. 144152. 215000.\n",
      " 262000.]\n",
      "[186500. 184000. 130000.  92000. 164500. 220000. 335000. 144152. 215000.\n",
      " 262000.]\n"
     ]
    },
    {
     "data": {
      "application/javascript": [
       "parent.postMessage({\"jupyterEvent\": \"custom.exercise_interaction\", \"data\": {\"outcomeType\": 1, \"valueTowardsCompletion\": 0.25, \"interactionType\": 1, \"questionType\": 2, \"questionId\": \"2_FitModelWithTrain\", \"learnToolsVersion\": \"0.3.4\", \"failureMessage\": \"\", \"exceptionClass\": \"\", \"trace\": \"\"}}, \"*\")"
      ],
      "text/plain": [
       "<IPython.core.display.Javascript object>"
      ]
     },
     "metadata": {},
     "output_type": "display_data"
    },
    {
     "data": {
      "text/markdown": [
       "<span style=\"color:#33cc33\">Correct</span>"
      ],
      "text/plain": [
       "Correct"
      ]
     },
     "metadata": {},
     "output_type": "display_data"
    }
   ],
   "source": [
    "# You imported DecisionTreeRegressor in your last exercise\n",
    "# and that code has been copied to the setup code above. So, no need to\n",
    "# import it again\n",
    "\n",
    "from sklearn.tree import DecisionTreeRegressor\n",
    "\n",
    "# Specify the model\n",
    "iowa_model = DecisionTreeRegressor(random_state=1)\n",
    "\n",
    "# Fit iowa_model with the training data.\n",
    "iowa_model.fit(train_X, train_y)\n",
    "\n",
    "# Check your answer\n",
    "step_2.check()"
   ]
  },
  {
   "cell_type": "code",
   "execution_count": 5,
   "id": "487444f4",
   "metadata": {
    "execution": {
     "iopub.execute_input": "2022-08-01T22:39:30.538612Z",
     "iopub.status.busy": "2022-08-01T22:39:30.537916Z",
     "iopub.status.idle": "2022-08-01T22:39:30.542348Z",
     "shell.execute_reply": "2022-08-01T22:39:30.541498Z"
    },
    "papermill": {
     "duration": 0.013727,
     "end_time": "2022-08-01T22:39:30.544466",
     "exception": false,
     "start_time": "2022-08-01T22:39:30.530739",
     "status": "completed"
    },
    "tags": []
   },
   "outputs": [],
   "source": [
    "# step_2.hint()\n",
    "# step_2.solution()"
   ]
  },
  {
   "cell_type": "markdown",
   "id": "72397d6c",
   "metadata": {
    "papermill": {
     "duration": 0.004176,
     "end_time": "2022-08-01T22:39:30.553062",
     "exception": false,
     "start_time": "2022-08-01T22:39:30.548886",
     "status": "completed"
    },
    "tags": []
   },
   "source": [
    "## Step 3: Make Predictions with Validation data\n"
   ]
  },
  {
   "cell_type": "code",
   "execution_count": 6,
   "id": "ea94435f",
   "metadata": {
    "execution": {
     "iopub.execute_input": "2022-08-01T22:39:30.564978Z",
     "iopub.status.busy": "2022-08-01T22:39:30.564577Z",
     "iopub.status.idle": "2022-08-01T22:39:30.576387Z",
     "shell.execute_reply": "2022-08-01T22:39:30.575475Z"
    },
    "papermill": {
     "duration": 0.019913,
     "end_time": "2022-08-01T22:39:30.578521",
     "exception": false,
     "start_time": "2022-08-01T22:39:30.558608",
     "status": "completed"
    },
    "tags": []
   },
   "outputs": [
    {
     "data": {
      "application/javascript": [
       "parent.postMessage({\"jupyterEvent\": \"custom.exercise_interaction\", \"data\": {\"outcomeType\": 1, \"valueTowardsCompletion\": 0.25, \"interactionType\": 1, \"questionType\": 2, \"questionId\": \"3_ValPreds\", \"learnToolsVersion\": \"0.3.4\", \"failureMessage\": \"\", \"exceptionClass\": \"\", \"trace\": \"\"}}, \"*\")"
      ],
      "text/plain": [
       "<IPython.core.display.Javascript object>"
      ]
     },
     "metadata": {},
     "output_type": "display_data"
    },
    {
     "data": {
      "text/markdown": [
       "<span style=\"color:#33cc33\">Correct</span>"
      ],
      "text/plain": [
       "Correct"
      ]
     },
     "metadata": {},
     "output_type": "display_data"
    }
   ],
   "source": [
    "# Predict with all validation observations\n",
    "val_predictions = iowa_model.predict(val_X)\n",
    "\n",
    "\n",
    "# Check your answer\n",
    "step_3.check()"
   ]
  },
  {
   "cell_type": "code",
   "execution_count": 7,
   "id": "5f3ecbbf",
   "metadata": {
    "execution": {
     "iopub.execute_input": "2022-08-01T22:39:30.590307Z",
     "iopub.status.busy": "2022-08-01T22:39:30.589680Z",
     "iopub.status.idle": "2022-08-01T22:39:30.593172Z",
     "shell.execute_reply": "2022-08-01T22:39:30.592415Z"
    },
    "papermill": {
     "duration": 0.012016,
     "end_time": "2022-08-01T22:39:30.595384",
     "exception": false,
     "start_time": "2022-08-01T22:39:30.583368",
     "status": "completed"
    },
    "tags": []
   },
   "outputs": [],
   "source": [
    "# step_3.hint()\n",
    "# step_3.solution()"
   ]
  },
  {
   "cell_type": "markdown",
   "id": "7b7c0eb0",
   "metadata": {
    "papermill": {
     "duration": 0.004894,
     "end_time": "2022-08-01T22:39:30.605828",
     "exception": false,
     "start_time": "2022-08-01T22:39:30.600934",
     "status": "completed"
    },
    "tags": []
   },
   "source": [
    "Inspect your predictions and actual values from validation data."
   ]
  },
  {
   "cell_type": "code",
   "execution_count": 8,
   "id": "c5de0873",
   "metadata": {
    "execution": {
     "iopub.execute_input": "2022-08-01T22:39:30.617968Z",
     "iopub.status.busy": "2022-08-01T22:39:30.616888Z",
     "iopub.status.idle": "2022-08-01T22:39:30.624792Z",
     "shell.execute_reply": "2022-08-01T22:39:30.623570Z"
    },
    "papermill": {
     "duration": 0.017214,
     "end_time": "2022-08-01T22:39:30.628006",
     "exception": false,
     "start_time": "2022-08-01T22:39:30.610792",
     "status": "completed"
    },
    "tags": []
   },
   "outputs": [
    {
     "name": "stdout",
     "output_type": "stream",
     "text": [
      "[186500. 184000. 130000.  92000. 164500.]\n",
      "[231500 179500 122000  84500 142000]\n"
     ]
    }
   ],
   "source": [
    "# print the top few validation predictions\n",
    "print(val_predictions[0:5])\n",
    "# print the top few actual prices from validation data\n",
    "print(val_y[0:5].values)"
   ]
  },
  {
   "cell_type": "markdown",
   "id": "c5e62027",
   "metadata": {
    "papermill": {
     "duration": 0.005519,
     "end_time": "2022-08-01T22:39:30.639596",
     "exception": false,
     "start_time": "2022-08-01T22:39:30.634077",
     "status": "completed"
    },
    "tags": []
   },
   "source": [
    "What do you notice that is different from what you saw with in-sample predictions (which are printed after the top code cell in this page).\n",
    "\n",
    "Do you remember why validation predictions differ from in-sample (or training) predictions? This is an important idea from the last lesson.\n",
    "\n",
    "## Step 4: Calculate the Mean Absolute Error in Validation Data\n"
   ]
  },
  {
   "cell_type": "code",
   "execution_count": 9,
   "id": "54d9e861",
   "metadata": {
    "execution": {
     "iopub.execute_input": "2022-08-01T22:39:30.652437Z",
     "iopub.status.busy": "2022-08-01T22:39:30.651146Z",
     "iopub.status.idle": "2022-08-01T22:39:30.664603Z",
     "shell.execute_reply": "2022-08-01T22:39:30.662942Z"
    },
    "papermill": {
     "duration": 0.022039,
     "end_time": "2022-08-01T22:39:30.666893",
     "exception": false,
     "start_time": "2022-08-01T22:39:30.644854",
     "status": "completed"
    },
    "tags": []
   },
   "outputs": [
    {
     "name": "stdout",
     "output_type": "stream",
     "text": [
      "29652.931506849316\n"
     ]
    },
    {
     "data": {
      "application/javascript": [
       "parent.postMessage({\"jupyterEvent\": \"custom.exercise_interaction\", \"data\": {\"outcomeType\": 1, \"valueTowardsCompletion\": 0.25, \"interactionType\": 1, \"questionType\": 1, \"questionId\": \"4_MAE\", \"learnToolsVersion\": \"0.3.4\", \"failureMessage\": \"\", \"exceptionClass\": \"\", \"trace\": \"\"}}, \"*\")"
      ],
      "text/plain": [
       "<IPython.core.display.Javascript object>"
      ]
     },
     "metadata": {},
     "output_type": "display_data"
    },
    {
     "data": {
      "text/markdown": [
       "<span style=\"color:#33cc33\">Correct</span>"
      ],
      "text/plain": [
       "Correct"
      ]
     },
     "metadata": {},
     "output_type": "display_data"
    }
   ],
   "source": [
    "from sklearn.metrics import mean_absolute_error\n",
    "val_mae = mean_absolute_error(val_predictions, val_y)\n",
    "\n",
    "# uncomment following line to see the validation_mae\n",
    "print(val_mae)\n",
    "\n",
    "# Check your answer\n",
    "step_4.check()"
   ]
  },
  {
   "cell_type": "code",
   "execution_count": 10,
   "id": "ef409b52",
   "metadata": {
    "execution": {
     "iopub.execute_input": "2022-08-01T22:39:30.680198Z",
     "iopub.status.busy": "2022-08-01T22:39:30.679297Z",
     "iopub.status.idle": "2022-08-01T22:39:30.684072Z",
     "shell.execute_reply": "2022-08-01T22:39:30.683117Z"
    },
    "papermill": {
     "duration": 0.013929,
     "end_time": "2022-08-01T22:39:30.686266",
     "exception": false,
     "start_time": "2022-08-01T22:39:30.672337",
     "status": "completed"
    },
    "tags": []
   },
   "outputs": [],
   "source": [
    "# step_4.hint()\n",
    "# step_4.solution()"
   ]
  },
  {
   "cell_type": "markdown",
   "id": "1e3e2184",
   "metadata": {
    "papermill": {
     "duration": 0.004913,
     "end_time": "2022-08-01T22:39:30.696105",
     "exception": false,
     "start_time": "2022-08-01T22:39:30.691192",
     "status": "completed"
    },
    "tags": []
   },
   "source": [
    "Is that MAE good?  There isn't a general rule for what values are good that applies across applications. But you'll see how to use (and improve) this number in the next step.\n",
    "\n",
    "# Keep Going\n",
    "\n",
    "You are ready for **[Underfitting and Overfitting](https://www.kaggle.com/dansbecker/underfitting-and-overfitting).**\n"
   ]
  },
  {
   "cell_type": "markdown",
   "id": "94b85f39",
   "metadata": {
    "papermill": {
     "duration": 0.004526,
     "end_time": "2022-08-01T22:39:30.706684",
     "exception": false,
     "start_time": "2022-08-01T22:39:30.702158",
     "status": "completed"
    },
    "tags": []
   },
   "source": [
    "---\n",
    "\n",
    "\n",
    "\n",
    "\n",
    "*Have questions or comments? Visit the [course discussion forum](https://www.kaggle.com/learn/intro-to-machine-learning/discussion) to chat with other learners.*"
   ]
  }
 ],
 "metadata": {
  "kernelspec": {
   "display_name": "Python 3",
   "language": "python",
   "name": "python3"
  },
  "language_info": {
   "codemirror_mode": {
    "name": "ipython",
    "version": 3
   },
   "file_extension": ".py",
   "mimetype": "text/x-python",
   "name": "python",
   "nbconvert_exporter": "python",
   "pygments_lexer": "ipython3",
   "version": "3.7.12"
  },
  "papermill": {
   "default_parameters": {},
   "duration": 12.819017,
   "end_time": "2022-08-01T22:39:31.536659",
   "environment_variables": {},
   "exception": null,
   "input_path": "__notebook__.ipynb",
   "output_path": "__notebook__.ipynb",
   "parameters": {},
   "start_time": "2022-08-01T22:39:18.717642",
   "version": "2.3.4"
  }
 },
 "nbformat": 4,
 "nbformat_minor": 5
}
